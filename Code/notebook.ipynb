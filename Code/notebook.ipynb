{
  "cells": [
    {
      "cell_type": "code",
      "execution_count": null,
      "metadata": {
        "id": "-hNVQ2NWKuZi"
      },
      "outputs": [],
      "source": [
        "import os\n",
        "import pandas as pd\n",
        "import numpy as np\n",
        "import matplotlib.pyplot as plt\n",
        "from sklearn.ensemble import RandomForestClassifier\n",
        "from sklearn.tree import DecisionTreeClassifier\n",
        "from sklearn.naive_bayes import GaussianNB"
      ]
    },
    {
      "cell_type": "code",
      "execution_count": null,
      "metadata": {
        "id": "okl8LjtkKuZl"
      },
      "outputs": [],
      "source": [
        "%pip install numpy\n",
        "%pip install pandas\n",
        "%pip install matplotlib\n",
        "%pip install scikit-learn"
      ]
    },
    {
      "cell_type": "code",
      "execution_count": null,
      "metadata": {
        "id": "qqp_T0IrKuZo",
        "outputId": "9ecd6cdd-c45d-4aee-a266-ee6ae5b8c8bf"
      },
      "outputs": [
        {
          "name": "stdout",
          "output_type": "stream",
          "text": [
            "2.5.1\n"
          ]
        }
      ],
      "source": [
        "#Limiting GPU use in the server\n",
        "import tensorflow as tf\n",
        "print(tf. __version__)\n",
        "gpus = tf.config.experimental.list_physical_devices(\"GPU\")\n",
        "for gpu in gpus:\n",
        "    tf.config.experimental.set_memory_growth(gpu, True)"
      ]
    },
    {
      "cell_type": "code",
      "execution_count": null,
      "metadata": {
        "id": "pkLkbZ8gKuZp"
      },
      "outputs": [],
      "source": [
        "!unzip 'dataset.zip'"
      ]
    },
    {
      "cell_type": "code",
      "execution_count": null,
      "metadata": {
        "colab": {
          "base_uri": "https://localhost:8080/",
          "height": 380
        },
        "id": "cTA2emRfKuZq",
        "outputId": "534ba781-993e-4e08-bf07-a733f4514ade"
      },
      "outputs": [
        {
          "name": "stdout",
          "output_type": "stream",
          "text": [
            "811\n"
          ]
        },
        {
          "data": {
            "text/html": [
              "\n",
              "  <div id=\"df-f50783a2-95f8-4b34-b12b-c7cab95dd17e\">\n",
              "    <div class=\"colab-df-container\">\n",
              "      <div>\n",
              "<style scoped>\n",
              "    .dataframe tbody tr th:only-of-type {\n",
              "        vertical-align: middle;\n",
              "    }\n",
              "\n",
              "    .dataframe tbody tr th {\n",
              "        vertical-align: top;\n",
              "    }\n",
              "\n",
              "    .dataframe thead th {\n",
              "        text-align: right;\n",
              "    }\n",
              "</style>\n",
              "<table border=\"1\" class=\"dataframe\">\n",
              "  <thead>\n",
              "    <tr style=\"text-align: right;\">\n",
              "      <th></th>\n",
              "      <th>filename</th>\n",
              "      <th>label</th>\n",
              "      <th>text</th>\n",
              "    </tr>\n",
              "  </thead>\n",
              "  <tbody>\n",
              "    <tr>\n",
              "      <th>0</th>\n",
              "      <td>1149</td>\n",
              "      <td>Neurology</td>\n",
              "      <td>history of present illness:  the patient is a ...</td>\n",
              "    </tr>\n",
              "    <tr>\n",
              "      <th>1</th>\n",
              "      <td>1654</td>\n",
              "      <td>Neurology</td>\n",
              "      <td>chief complaint:  followup of hospital dischar...</td>\n",
              "    </tr>\n",
              "    <tr>\n",
              "      <th>2</th>\n",
              "      <td>1342</td>\n",
              "      <td>Neurology</td>\n",
              "      <td>report:  this is an 18-channel recording obtai...</td>\n",
              "    </tr>\n",
              "    <tr>\n",
              "      <th>3</th>\n",
              "      <td>1374</td>\n",
              "      <td>Neurology</td>\n",
              "      <td>in july 2003 the patient had an episode of lig...</td>\n",
              "    </tr>\n",
              "    <tr>\n",
              "      <th>4</th>\n",
              "      <td>1416</td>\n",
              "      <td>Neurology</td>\n",
              "      <td>lethargy. this 28y/o rhm was admitted to a lo...</td>\n",
              "    </tr>\n",
              "    <tr>\n",
              "      <th>5</th>\n",
              "      <td>1678</td>\n",
              "      <td>Neurology</td>\n",
              "      <td>sensory loss. 25y/o rhf began experiencing pr...</td>\n",
              "    </tr>\n",
              "    <tr>\n",
              "      <th>6</th>\n",
              "      <td>1769</td>\n",
              "      <td>Neurology</td>\n",
              "      <td>ct head without contrast and ct cervical spine...</td>\n",
              "    </tr>\n",
              "    <tr>\n",
              "      <th>7</th>\n",
              "      <td>1350</td>\n",
              "      <td>Neurology</td>\n",
              "      <td>sudden onset blindness. this 58 y/o rhf was i...</td>\n",
              "    </tr>\n",
              "    <tr>\n",
              "      <th>8</th>\n",
              "      <td>1400</td>\n",
              "      <td>Neurology</td>\n",
              "      <td>diagnosis:  status post brain tumor removal.hi...</td>\n",
              "    </tr>\n",
              "    <tr>\n",
              "      <th>9</th>\n",
              "      <td>1201</td>\n",
              "      <td>Neurology</td>\n",
              "      <td>difficulty with speech. this 84 y/o rhf prese...</td>\n",
              "    </tr>\n",
              "  </tbody>\n",
              "</table>\n",
              "</div>\n",
              "      <button class=\"colab-df-convert\" onclick=\"convertToInteractive('df-f50783a2-95f8-4b34-b12b-c7cab95dd17e')\"\n",
              "              title=\"Convert this dataframe to an interactive table.\"\n",
              "              style=\"display:none;\">\n",
              "        \n",
              "  <svg xmlns=\"http://www.w3.org/2000/svg\" height=\"24px\"viewBox=\"0 0 24 24\"\n",
              "       width=\"24px\">\n",
              "    <path d=\"M0 0h24v24H0V0z\" fill=\"none\"/>\n",
              "    <path d=\"M18.56 5.44l.94 2.06.94-2.06 2.06-.94-2.06-.94-.94-2.06-.94 2.06-2.06.94zm-11 1L8.5 8.5l.94-2.06 2.06-.94-2.06-.94L8.5 2.5l-.94 2.06-2.06.94zm10 10l.94 2.06.94-2.06 2.06-.94-2.06-.94-.94-2.06-.94 2.06-2.06.94z\"/><path d=\"M17.41 7.96l-1.37-1.37c-.4-.4-.92-.59-1.43-.59-.52 0-1.04.2-1.43.59L10.3 9.45l-7.72 7.72c-.78.78-.78 2.05 0 2.83L4 21.41c.39.39.9.59 1.41.59.51 0 1.02-.2 1.41-.59l7.78-7.78 2.81-2.81c.8-.78.8-2.07 0-2.86zM5.41 20L4 18.59l7.72-7.72 1.47 1.35L5.41 20z\"/>\n",
              "  </svg>\n",
              "      </button>\n",
              "      \n",
              "  <style>\n",
              "    .colab-df-container {\n",
              "      display:flex;\n",
              "      flex-wrap:wrap;\n",
              "      gap: 12px;\n",
              "    }\n",
              "\n",
              "    .colab-df-convert {\n",
              "      background-color: #E8F0FE;\n",
              "      border: none;\n",
              "      border-radius: 50%;\n",
              "      cursor: pointer;\n",
              "      display: none;\n",
              "      fill: #1967D2;\n",
              "      height: 32px;\n",
              "      padding: 0 0 0 0;\n",
              "      width: 32px;\n",
              "    }\n",
              "\n",
              "    .colab-df-convert:hover {\n",
              "      background-color: #E2EBFA;\n",
              "      box-shadow: 0px 1px 2px rgba(60, 64, 67, 0.3), 0px 1px 3px 1px rgba(60, 64, 67, 0.15);\n",
              "      fill: #174EA6;\n",
              "    }\n",
              "\n",
              "    [theme=dark] .colab-df-convert {\n",
              "      background-color: #3B4455;\n",
              "      fill: #D2E3FC;\n",
              "    }\n",
              "\n",
              "    [theme=dark] .colab-df-convert:hover {\n",
              "      background-color: #434B5C;\n",
              "      box-shadow: 0px 1px 3px 1px rgba(0, 0, 0, 0.15);\n",
              "      filter: drop-shadow(0px 1px 2px rgba(0, 0, 0, 0.3));\n",
              "      fill: #FFFFFF;\n",
              "    }\n",
              "  </style>\n",
              "\n",
              "      <script>\n",
              "        const buttonEl =\n",
              "          document.querySelector('#df-f50783a2-95f8-4b34-b12b-c7cab95dd17e button.colab-df-convert');\n",
              "        buttonEl.style.display =\n",
              "          google.colab.kernel.accessAllowed ? 'block' : 'none';\n",
              "\n",
              "        async function convertToInteractive(key) {\n",
              "          const element = document.querySelector('#df-f50783a2-95f8-4b34-b12b-c7cab95dd17e');\n",
              "          const dataTable =\n",
              "            await google.colab.kernel.invokeFunction('convertToInteractive',\n",
              "                                                     [key], {});\n",
              "          if (!dataTable) return;\n",
              "\n",
              "          const docLinkHtml = 'Like what you see? Visit the ' +\n",
              "            '<a target=\"_blank\" href=https://colab.research.google.com/notebooks/data_table.ipynb>data table notebook</a>'\n",
              "            + ' to learn more about interactive tables.';\n",
              "          element.innerHTML = '';\n",
              "          dataTable['output_type'] = 'display_data';\n",
              "          await google.colab.output.renderOutput(dataTable, element);\n",
              "          const docLink = document.createElement('div');\n",
              "          docLink.innerHTML = docLinkHtml;\n",
              "          element.appendChild(docLink);\n",
              "        }\n",
              "      </script>\n",
              "    </div>\n",
              "  </div>\n",
              "  "
            ],
            "text/plain": [
              "  filename      label                                               text\n",
              "0     1149  Neurology  history of present illness:  the patient is a ...\n",
              "1     1654  Neurology  chief complaint:  followup of hospital dischar...\n",
              "2     1342  Neurology  report:  this is an 18-channel recording obtai...\n",
              "3     1374  Neurology  in july 2003 the patient had an episode of lig...\n",
              "4     1416  Neurology   lethargy. this 28y/o rhm was admitted to a lo...\n",
              "5     1678  Neurology   sensory loss. 25y/o rhf began experiencing pr...\n",
              "6     1769  Neurology  ct head without contrast and ct cervical spine...\n",
              "7     1350  Neurology   sudden onset blindness. this 58 y/o rhf was i...\n",
              "8     1400  Neurology  diagnosis:  status post brain tumor removal.hi...\n",
              "9     1201  Neurology   difficulty with speech. this 84 y/o rhf prese..."
            ]
          },
          "execution_count": 3,
          "metadata": {},
          "output_type": "execute_result"
        }
      ],
      "source": [
        "#Reading from files\n",
        "TxtList=[]                               #(filename, label, text)\n",
        "data_file_path='dataset/train-data/'\n",
        "import re\n",
        "\n",
        "for label in os.listdir(data_file_path):\n",
        "    for filename in os.listdir(data_file_path+label+'/'):\n",
        "        file=data_file_path+label+'/'+filename\n",
        "        try:\n",
        "            with open(file, 'r') as f:\n",
        "                text=f.readlines()\n",
        "                parsetxt=[]  #list of sentences\n",
        "                for sentence in text:\n",
        "                    if sentence=='\\n':\n",
        "                        pass\n",
        "                    else:\n",
        "                        for badcharacter in ['<B>\\w{2}:', 'CC:', '<B>', '</B>', '\\n']:\n",
        "                            sentence = re.sub(badcharacter, '', sentence)\n",
        "                        sentence = ''.join([s.lower() for s in sentence])\n",
        "\n",
        "                        parsetxt.append(sentence)\n",
        "\n",
        "            TxtList.append((filename.strip('.txt'), label.strip(data_file_path), ''.join(parsetxt)))\n",
        "        except:\n",
        "            pass\n",
        "\n",
        "data= pd.DataFrame(TxtList, columns=['filename', 'label', 'text'])\n",
        "print(len(data))\n",
        "data.head(10)"
      ]
    },
    {
      "cell_type": "code",
      "execution_count": null,
      "metadata": {
        "colab": {
          "base_uri": "https://localhost:8080/"
        },
        "id": "XoP1u9MuKuZs",
        "outputId": "b015572c-2782-4ae1-be5a-60cb4bacd584"
      },
      "outputs": [
        {
          "name": "stdout",
          "output_type": "stream",
          "text": [
            "Empty DataFrame\n",
            "Columns: [filename, label, text]\n",
            "Index: []\n"
          ]
        }
      ],
      "source": [
        "#missing rows\n",
        "#miss_rows=[row for row in data.row if data[row].isnull().any()]\n",
        "print(data[data.isnull().any(axis=1)])"
      ]
    },
    {
      "cell_type": "code",
      "execution_count": null,
      "metadata": {
        "colab": {
          "base_uri": "https://localhost:8080/",
          "height": 537
        },
        "id": "s9TnhouQKuZs",
        "outputId": "83b14673-d01d-4d2a-944c-3be5021c6a2e"
      },
      "outputs": [
        {
          "name": "stdout",
          "output_type": "stream",
          "text": [
            "(811, 3)\n"
          ]
        },
        {
          "data": {
            "text/html": [
              "\n",
              "  <div id=\"df-b7028ad0-7913-4047-b1d7-8ecdb5633658\">\n",
              "    <div class=\"colab-df-container\">\n",
              "      <div>\n",
              "<style scoped>\n",
              "    .dataframe tbody tr th:only-of-type {\n",
              "        vertical-align: middle;\n",
              "    }\n",
              "\n",
              "    .dataframe tbody tr th {\n",
              "        vertical-align: top;\n",
              "    }\n",
              "\n",
              "    .dataframe thead th {\n",
              "        text-align: right;\n",
              "    }\n",
              "</style>\n",
              "<table border=\"1\" class=\"dataframe\">\n",
              "  <thead>\n",
              "    <tr style=\"text-align: right;\">\n",
              "      <th></th>\n",
              "      <th>filename</th>\n",
              "      <th>label</th>\n",
              "      <th>text</th>\n",
              "    </tr>\n",
              "  </thead>\n",
              "  <tbody>\n",
              "    <tr>\n",
              "      <th>0</th>\n",
              "      <td>1149</td>\n",
              "      <td>Neurology</td>\n",
              "      <td>history of present illness:  the patient is a ...</td>\n",
              "    </tr>\n",
              "    <tr>\n",
              "      <th>1</th>\n",
              "      <td>1654</td>\n",
              "      <td>Neurology</td>\n",
              "      <td>chief complaint:  followup of hospital dischar...</td>\n",
              "    </tr>\n",
              "    <tr>\n",
              "      <th>2</th>\n",
              "      <td>1342</td>\n",
              "      <td>Neurology</td>\n",
              "      <td>report:  this is an 18-channel recording obtai...</td>\n",
              "    </tr>\n",
              "    <tr>\n",
              "      <th>3</th>\n",
              "      <td>1374</td>\n",
              "      <td>Neurology</td>\n",
              "      <td>in july 2003 the patient had an episode of lig...</td>\n",
              "    </tr>\n",
              "    <tr>\n",
              "      <th>4</th>\n",
              "      <td>1416</td>\n",
              "      <td>Neurology</td>\n",
              "      <td>lethargy. this 28y/o rhm was admitted to a lo...</td>\n",
              "    </tr>\n",
              "    <tr>\n",
              "      <th>5</th>\n",
              "      <td>1678</td>\n",
              "      <td>Neurology</td>\n",
              "      <td>sensory loss. 25y/o rhf began experiencing pr...</td>\n",
              "    </tr>\n",
              "    <tr>\n",
              "      <th>6</th>\n",
              "      <td>1769</td>\n",
              "      <td>Neurology</td>\n",
              "      <td>ct head without contrast and ct cervical spine...</td>\n",
              "    </tr>\n",
              "    <tr>\n",
              "      <th>7</th>\n",
              "      <td>1350</td>\n",
              "      <td>Neurology</td>\n",
              "      <td>sudden onset blindness. this 58 y/o rhf was i...</td>\n",
              "    </tr>\n",
              "    <tr>\n",
              "      <th>8</th>\n",
              "      <td>1400</td>\n",
              "      <td>Neurology</td>\n",
              "      <td>diagnosis:  status post brain tumor removal.hi...</td>\n",
              "    </tr>\n",
              "    <tr>\n",
              "      <th>9</th>\n",
              "      <td>1201</td>\n",
              "      <td>Neurology</td>\n",
              "      <td>difficulty with speech. this 84 y/o rhf prese...</td>\n",
              "    </tr>\n",
              "    <tr>\n",
              "      <th>10</th>\n",
              "      <td>1046</td>\n",
              "      <td>Neurology</td>\n",
              "      <td>right sided numbness. 28 y/o male presented w...</td>\n",
              "    </tr>\n",
              "    <tr>\n",
              "      <th>11</th>\n",
              "      <td>1736</td>\n",
              "      <td>Neurology</td>\n",
              "      <td>the patient states that she has been having so...</td>\n",
              "    </tr>\n",
              "    <tr>\n",
              "      <th>12</th>\n",
              "      <td>1349</td>\n",
              "      <td>Neurology</td>\n",
              "      <td>procedure:  a 21-channel digital electroenceph...</td>\n",
              "    </tr>\n",
              "    <tr>\n",
              "      <th>13</th>\n",
              "      <td>1331</td>\n",
              "      <td>Neurology</td>\n",
              "      <td>headache. the patient is an 8y/o rhm with a 2...</td>\n",
              "    </tr>\n",
              "    <tr>\n",
              "      <th>14</th>\n",
              "      <td>1454</td>\n",
              "      <td>Neurology</td>\n",
              "      <td>i had the pleasure of seeing mr. abc in neurol...</td>\n",
              "    </tr>\n",
              "  </tbody>\n",
              "</table>\n",
              "</div>\n",
              "      <button class=\"colab-df-convert\" onclick=\"convertToInteractive('df-b7028ad0-7913-4047-b1d7-8ecdb5633658')\"\n",
              "              title=\"Convert this dataframe to an interactive table.\"\n",
              "              style=\"display:none;\">\n",
              "        \n",
              "  <svg xmlns=\"http://www.w3.org/2000/svg\" height=\"24px\"viewBox=\"0 0 24 24\"\n",
              "       width=\"24px\">\n",
              "    <path d=\"M0 0h24v24H0V0z\" fill=\"none\"/>\n",
              "    <path d=\"M18.56 5.44l.94 2.06.94-2.06 2.06-.94-2.06-.94-.94-2.06-.94 2.06-2.06.94zm-11 1L8.5 8.5l.94-2.06 2.06-.94-2.06-.94L8.5 2.5l-.94 2.06-2.06.94zm10 10l.94 2.06.94-2.06 2.06-.94-2.06-.94-.94-2.06-.94 2.06-2.06.94z\"/><path d=\"M17.41 7.96l-1.37-1.37c-.4-.4-.92-.59-1.43-.59-.52 0-1.04.2-1.43.59L10.3 9.45l-7.72 7.72c-.78.78-.78 2.05 0 2.83L4 21.41c.39.39.9.59 1.41.59.51 0 1.02-.2 1.41-.59l7.78-7.78 2.81-2.81c.8-.78.8-2.07 0-2.86zM5.41 20L4 18.59l7.72-7.72 1.47 1.35L5.41 20z\"/>\n",
              "  </svg>\n",
              "      </button>\n",
              "      \n",
              "  <style>\n",
              "    .colab-df-container {\n",
              "      display:flex;\n",
              "      flex-wrap:wrap;\n",
              "      gap: 12px;\n",
              "    }\n",
              "\n",
              "    .colab-df-convert {\n",
              "      background-color: #E8F0FE;\n",
              "      border: none;\n",
              "      border-radius: 50%;\n",
              "      cursor: pointer;\n",
              "      display: none;\n",
              "      fill: #1967D2;\n",
              "      height: 32px;\n",
              "      padding: 0 0 0 0;\n",
              "      width: 32px;\n",
              "    }\n",
              "\n",
              "    .colab-df-convert:hover {\n",
              "      background-color: #E2EBFA;\n",
              "      box-shadow: 0px 1px 2px rgba(60, 64, 67, 0.3), 0px 1px 3px 1px rgba(60, 64, 67, 0.15);\n",
              "      fill: #174EA6;\n",
              "    }\n",
              "\n",
              "    [theme=dark] .colab-df-convert {\n",
              "      background-color: #3B4455;\n",
              "      fill: #D2E3FC;\n",
              "    }\n",
              "\n",
              "    [theme=dark] .colab-df-convert:hover {\n",
              "      background-color: #434B5C;\n",
              "      box-shadow: 0px 1px 3px 1px rgba(0, 0, 0, 0.15);\n",
              "      filter: drop-shadow(0px 1px 2px rgba(0, 0, 0, 0.3));\n",
              "      fill: #FFFFFF;\n",
              "    }\n",
              "  </style>\n",
              "\n",
              "      <script>\n",
              "        const buttonEl =\n",
              "          document.querySelector('#df-b7028ad0-7913-4047-b1d7-8ecdb5633658 button.colab-df-convert');\n",
              "        buttonEl.style.display =\n",
              "          google.colab.kernel.accessAllowed ? 'block' : 'none';\n",
              "\n",
              "        async function convertToInteractive(key) {\n",
              "          const element = document.querySelector('#df-b7028ad0-7913-4047-b1d7-8ecdb5633658');\n",
              "          const dataTable =\n",
              "            await google.colab.kernel.invokeFunction('convertToInteractive',\n",
              "                                                     [key], {});\n",
              "          if (!dataTable) return;\n",
              "\n",
              "          const docLinkHtml = 'Like what you see? Visit the ' +\n",
              "            '<a target=\"_blank\" href=https://colab.research.google.com/notebooks/data_table.ipynb>data table notebook</a>'\n",
              "            + ' to learn more about interactive tables.';\n",
              "          element.innerHTML = '';\n",
              "          dataTable['output_type'] = 'display_data';\n",
              "          await google.colab.output.renderOutput(dataTable, element);\n",
              "          const docLink = document.createElement('div');\n",
              "          docLink.innerHTML = docLinkHtml;\n",
              "          element.appendChild(docLink);\n",
              "        }\n",
              "      </script>\n",
              "    </div>\n",
              "  </div>\n",
              "  "
            ],
            "text/plain": [
              "   filename      label                                               text\n",
              "0      1149  Neurology  history of present illness:  the patient is a ...\n",
              "1      1654  Neurology  chief complaint:  followup of hospital dischar...\n",
              "2      1342  Neurology  report:  this is an 18-channel recording obtai...\n",
              "3      1374  Neurology  in july 2003 the patient had an episode of lig...\n",
              "4      1416  Neurology   lethargy. this 28y/o rhm was admitted to a lo...\n",
              "5      1678  Neurology   sensory loss. 25y/o rhf began experiencing pr...\n",
              "6      1769  Neurology  ct head without contrast and ct cervical spine...\n",
              "7      1350  Neurology   sudden onset blindness. this 58 y/o rhf was i...\n",
              "8      1400  Neurology  diagnosis:  status post brain tumor removal.hi...\n",
              "9      1201  Neurology   difficulty with speech. this 84 y/o rhf prese...\n",
              "10     1046  Neurology   right sided numbness. 28 y/o male presented w...\n",
              "11     1736  Neurology  the patient states that she has been having so...\n",
              "12     1349  Neurology  procedure:  a 21-channel digital electroenceph...\n",
              "13     1331  Neurology   headache. the patient is an 8y/o rhm with a 2...\n",
              "14     1454  Neurology  i had the pleasure of seeing mr. abc in neurol..."
            ]
          },
          "execution_count": 5,
          "metadata": {},
          "output_type": "execute_result"
        }
      ],
      "source": [
        "print(data.shape)\n",
        "data.head(15)"
      ]
    },
    {
      "attachments": {},
      "cell_type": "markdown",
      "metadata": {
        "id": "xJZg7uqyKuZt"
      },
      "source": [
        "# Feature Extraction"
      ]
    },
    {
      "cell_type": "code",
      "execution_count": null,
      "metadata": {
        "colab": {
          "base_uri": "https://localhost:8080/",
          "height": 554
        },
        "id": "qSLppiPbK67k",
        "outputId": "19c51b6e-6bc4-4852-b5b3-227ca5964954"
      },
      "outputs": [
        {
          "name": "stderr",
          "output_type": "stream",
          "text": [
            "[nltk_data] Downloading package stopwords to /root/nltk_data...\n",
            "[nltk_data]   Unzipping corpora/stopwords.zip.\n"
          ]
        },
        {
          "data": {
            "text/html": [
              "\n",
              "  <div id=\"df-88513d7c-d1a3-47df-8386-dac3aec5e34d\">\n",
              "    <div class=\"colab-df-container\">\n",
              "      <div>\n",
              "<style scoped>\n",
              "    .dataframe tbody tr th:only-of-type {\n",
              "        vertical-align: middle;\n",
              "    }\n",
              "\n",
              "    .dataframe tbody tr th {\n",
              "        vertical-align: top;\n",
              "    }\n",
              "\n",
              "    .dataframe thead th {\n",
              "        text-align: right;\n",
              "    }\n",
              "</style>\n",
              "<table border=\"1\" class=\"dataframe\">\n",
              "  <thead>\n",
              "    <tr style=\"text-align: right;\">\n",
              "      <th></th>\n",
              "      <th>filename</th>\n",
              "      <th>label</th>\n",
              "      <th>text</th>\n",
              "    </tr>\n",
              "  </thead>\n",
              "  <tbody>\n",
              "    <tr>\n",
              "      <th>0</th>\n",
              "      <td>1149</td>\n",
              "      <td>Neurology</td>\n",
              "      <td>history present illness: patient 36-year-old f...</td>\n",
              "    </tr>\n",
              "    <tr>\n",
              "      <th>1</th>\n",
              "      <td>1654</td>\n",
              "      <td>Neurology</td>\n",
              "      <td>chief complaint: followup hospital discharge g...</td>\n",
              "    </tr>\n",
              "    <tr>\n",
              "      <th>2</th>\n",
              "      <td>1342</td>\n",
              "      <td>Neurology</td>\n",
              "      <td>report: 18-channel recording obtained using st...</td>\n",
              "    </tr>\n",
              "    <tr>\n",
              "      <th>3</th>\n",
              "      <td>1374</td>\n",
              "      <td>Neurology</td>\n",
              "      <td>july 2003 patient episode lightheaded near syn...</td>\n",
              "    </tr>\n",
              "    <tr>\n",
              "      <th>4</th>\n",
              "      <td>1416</td>\n",
              "      <td>Neurology</td>\n",
              "      <td>lethargy. 28y/o rhm admitted local hospital 7/...</td>\n",
              "    </tr>\n",
              "    <tr>\n",
              "      <th>5</th>\n",
              "      <td>1678</td>\n",
              "      <td>Neurology</td>\n",
              "      <td>sensory loss. 25y/o rhf began experiencing pru...</td>\n",
              "    </tr>\n",
              "    <tr>\n",
              "      <th>6</th>\n",
              "      <td>1769</td>\n",
              "      <td>Neurology</td>\n",
              "      <td>ct head without contrast ct cervical spine wit...</td>\n",
              "    </tr>\n",
              "    <tr>\n",
              "      <th>7</th>\n",
              "      <td>1350</td>\n",
              "      <td>Neurology</td>\n",
              "      <td>sudden onset blindness. 58 y/o rhf usual healt...</td>\n",
              "    </tr>\n",
              "    <tr>\n",
              "      <th>8</th>\n",
              "      <td>1400</td>\n",
              "      <td>Neurology</td>\n",
              "      <td>diagnosis: status post brain tumor removal.his...</td>\n",
              "    </tr>\n",
              "    <tr>\n",
              "      <th>9</th>\n",
              "      <td>1201</td>\n",
              "      <td>Neurology</td>\n",
              "      <td>difficulty speech. 84 y/o rhf presented sudden...</td>\n",
              "    </tr>\n",
              "    <tr>\n",
              "      <th>10</th>\n",
              "      <td>1046</td>\n",
              "      <td>Neurology</td>\n",
              "      <td>right sided numbness. 28 y/o male presented 3 ...</td>\n",
              "    </tr>\n",
              "    <tr>\n",
              "      <th>11</th>\n",
              "      <td>1736</td>\n",
              "      <td>Neurology</td>\n",
              "      <td>patient states problems memory maybe past year...</td>\n",
              "    </tr>\n",
              "    <tr>\n",
              "      <th>12</th>\n",
              "      <td>1349</td>\n",
              "      <td>Neurology</td>\n",
              "      <td>procedure: 21-channel digital electroencephalo...</td>\n",
              "    </tr>\n",
              "    <tr>\n",
              "      <th>13</th>\n",
              "      <td>1331</td>\n",
              "      <td>Neurology</td>\n",
              "      <td>headache. patient 8y/o rhm 2 year history earl...</td>\n",
              "    </tr>\n",
              "    <tr>\n",
              "      <th>14</th>\n",
              "      <td>1454</td>\n",
              "      <td>Neurology</td>\n",
              "      <td>pleasure seeing mr. abc neurologic consultatio...</td>\n",
              "    </tr>\n",
              "  </tbody>\n",
              "</table>\n",
              "</div>\n",
              "      <button class=\"colab-df-convert\" onclick=\"convertToInteractive('df-88513d7c-d1a3-47df-8386-dac3aec5e34d')\"\n",
              "              title=\"Convert this dataframe to an interactive table.\"\n",
              "              style=\"display:none;\">\n",
              "        \n",
              "  <svg xmlns=\"http://www.w3.org/2000/svg\" height=\"24px\"viewBox=\"0 0 24 24\"\n",
              "       width=\"24px\">\n",
              "    <path d=\"M0 0h24v24H0V0z\" fill=\"none\"/>\n",
              "    <path d=\"M18.56 5.44l.94 2.06.94-2.06 2.06-.94-2.06-.94-.94-2.06-.94 2.06-2.06.94zm-11 1L8.5 8.5l.94-2.06 2.06-.94-2.06-.94L8.5 2.5l-.94 2.06-2.06.94zm10 10l.94 2.06.94-2.06 2.06-.94-2.06-.94-.94-2.06-.94 2.06-2.06.94z\"/><path d=\"M17.41 7.96l-1.37-1.37c-.4-.4-.92-.59-1.43-.59-.52 0-1.04.2-1.43.59L10.3 9.45l-7.72 7.72c-.78.78-.78 2.05 0 2.83L4 21.41c.39.39.9.59 1.41.59.51 0 1.02-.2 1.41-.59l7.78-7.78 2.81-2.81c.8-.78.8-2.07 0-2.86zM5.41 20L4 18.59l7.72-7.72 1.47 1.35L5.41 20z\"/>\n",
              "  </svg>\n",
              "      </button>\n",
              "      \n",
              "  <style>\n",
              "    .colab-df-container {\n",
              "      display:flex;\n",
              "      flex-wrap:wrap;\n",
              "      gap: 12px;\n",
              "    }\n",
              "\n",
              "    .colab-df-convert {\n",
              "      background-color: #E8F0FE;\n",
              "      border: none;\n",
              "      border-radius: 50%;\n",
              "      cursor: pointer;\n",
              "      display: none;\n",
              "      fill: #1967D2;\n",
              "      height: 32px;\n",
              "      padding: 0 0 0 0;\n",
              "      width: 32px;\n",
              "    }\n",
              "\n",
              "    .colab-df-convert:hover {\n",
              "      background-color: #E2EBFA;\n",
              "      box-shadow: 0px 1px 2px rgba(60, 64, 67, 0.3), 0px 1px 3px 1px rgba(60, 64, 67, 0.15);\n",
              "      fill: #174EA6;\n",
              "    }\n",
              "\n",
              "    [theme=dark] .colab-df-convert {\n",
              "      background-color: #3B4455;\n",
              "      fill: #D2E3FC;\n",
              "    }\n",
              "\n",
              "    [theme=dark] .colab-df-convert:hover {\n",
              "      background-color: #434B5C;\n",
              "      box-shadow: 0px 1px 3px 1px rgba(0, 0, 0, 0.15);\n",
              "      filter: drop-shadow(0px 1px 2px rgba(0, 0, 0, 0.3));\n",
              "      fill: #FFFFFF;\n",
              "    }\n",
              "  </style>\n",
              "\n",
              "      <script>\n",
              "        const buttonEl =\n",
              "          document.querySelector('#df-88513d7c-d1a3-47df-8386-dac3aec5e34d button.colab-df-convert');\n",
              "        buttonEl.style.display =\n",
              "          google.colab.kernel.accessAllowed ? 'block' : 'none';\n",
              "\n",
              "        async function convertToInteractive(key) {\n",
              "          const element = document.querySelector('#df-88513d7c-d1a3-47df-8386-dac3aec5e34d');\n",
              "          const dataTable =\n",
              "            await google.colab.kernel.invokeFunction('convertToInteractive',\n",
              "                                                     [key], {});\n",
              "          if (!dataTable) return;\n",
              "\n",
              "          const docLinkHtml = 'Like what you see? Visit the ' +\n",
              "            '<a target=\"_blank\" href=https://colab.research.google.com/notebooks/data_table.ipynb>data table notebook</a>'\n",
              "            + ' to learn more about interactive tables.';\n",
              "          element.innerHTML = '';\n",
              "          dataTable['output_type'] = 'display_data';\n",
              "          await google.colab.output.renderOutput(dataTable, element);\n",
              "          const docLink = document.createElement('div');\n",
              "          docLink.innerHTML = docLinkHtml;\n",
              "          element.appendChild(docLink);\n",
              "        }\n",
              "      </script>\n",
              "    </div>\n",
              "  </div>\n",
              "  "
            ],
            "text/plain": [
              "   filename      label                                               text\n",
              "0      1149  Neurology  history present illness: patient 36-year-old f...\n",
              "1      1654  Neurology  chief complaint: followup hospital discharge g...\n",
              "2      1342  Neurology  report: 18-channel recording obtained using st...\n",
              "3      1374  Neurology  july 2003 patient episode lightheaded near syn...\n",
              "4      1416  Neurology  lethargy. 28y/o rhm admitted local hospital 7/...\n",
              "5      1678  Neurology  sensory loss. 25y/o rhf began experiencing pru...\n",
              "6      1769  Neurology  ct head without contrast ct cervical spine wit...\n",
              "7      1350  Neurology  sudden onset blindness. 58 y/o rhf usual healt...\n",
              "8      1400  Neurology  diagnosis: status post brain tumor removal.his...\n",
              "9      1201  Neurology  difficulty speech. 84 y/o rhf presented sudden...\n",
              "10     1046  Neurology  right sided numbness. 28 y/o male presented 3 ...\n",
              "11     1736  Neurology  patient states problems memory maybe past year...\n",
              "12     1349  Neurology  procedure: 21-channel digital electroencephalo...\n",
              "13     1331  Neurology  headache. patient 8y/o rhm 2 year history earl...\n",
              "14     1454  Neurology  pleasure seeing mr. abc neurologic consultatio..."
            ]
          },
          "execution_count": 6,
          "metadata": {},
          "output_type": "execute_result"
        }
      ],
      "source": [
        "#Removing stopwords\n",
        "import nltk\n",
        "nltk.download('stopwords')\n",
        "from nltk.corpus import stopwords\n",
        "stop = stopwords.words('english')\n",
        "data['text'] = data['text'].apply(lambda x: \" \".join(x for x in x.split() if x not in stop))\n",
        "data.head(15)"
      ]
    },
    {
      "cell_type": "code",
      "execution_count": null,
      "metadata": {
        "colab": {
          "base_uri": "https://localhost:8080/"
        },
        "id": "Yr7R2JKcKuZv",
        "outputId": "0d58d34c-6686-4aa7-ae9f-989c13b34fd6"
      },
      "outputs": [
        {
          "name": "stdout",
          "output_type": "stream",
          "text": [
            "    00  000  000units  001  002  00am  00gestational  00pm  01  010  ...  \\\n",
            "0    0    0         0    0    0     0              0     0   0    0  ...   \n",
            "1    0    0         0    0    0     0              0     0   0    0  ...   \n",
            "2    0    0         0    0    0     0              0     0   0    0  ...   \n",
            "3    0    0         0    0    0     0              0     0   0    0  ...   \n",
            "4    0    0         0    0    0     0              0     0   0    0  ...   \n",
            "5    0    0         0    0    0     0              0     0   0    0  ...   \n",
            "6    0    0         0    0    0     0              0     0   0    0  ...   \n",
            "7    0    0         0    0    0     0              0     1   0    0  ...   \n",
            "8    0    0         0    0    0     0              0     0   1    0  ...   \n",
            "9    0    0         0    0    0     0              0     0   0    0  ...   \n",
            "10   0    0         0    0    0     0              0     0   0    0  ...   \n",
            "11   0    0         0    0    0     0              0     0   0    0  ...   \n",
            "12   0    0         0    0    0     0              0     0   0    0  ...   \n",
            "13   1    0         0    0    0     1              0     0   0    0  ...   \n",
            "14   0    0         0    0    0     0              0     0   0    0  ...   \n",
            "15   0    0         0    0    0     0              0     0   0    0  ...   \n",
            "16   0    0         0    0    0     0              0     0   0    0  ...   \n",
            "17   0    1         0    0    0     0              0     0   0    0  ...   \n",
            "18   0    0         0    0    0     0              0     0   0    0  ...   \n",
            "19   0    1         0    0    0     0              0     0   0    0  ...   \n",
            "20   0    0         0    0    0     0              0     0   0    0  ...   \n",
            "21   0    0         0    0    0     0              0     0   0    0  ...   \n",
            "22   0    0         0    0    0     0              0     0   0    0  ...   \n",
            "23   0    0         0    0    0     0              0     0   0    0  ...   \n",
            "24   0    0         0    0    0     0              0     0   0    0  ...   \n",
            "\n",
            "    zoladex  zoloft  zolpidem  zone  zonegran  zones  zoster  zosyn  \\\n",
            "0         0       0         0     0         0      0       0      0   \n",
            "1         0       0         0     0         0      0       0      0   \n",
            "2         0       0         0     0         0      0       0      0   \n",
            "3         0       0         0     0         0      0       0      0   \n",
            "4         0       0         0     0         0      0       0      0   \n",
            "5         0       0         0     0         0      0       0      0   \n",
            "6         0       0         0     0         0      0       0      0   \n",
            "7         0       0         0     0         0      0       0      0   \n",
            "8         0       0         0     0         0      0       0      0   \n",
            "9         0       0         0     0         0      0       0      0   \n",
            "10        0       0         0     0         0      0       0      0   \n",
            "11        0       0         0     0         0      0       0      0   \n",
            "12        0       0         0     0         0      0       0      0   \n",
            "13        0       0         0     0         0      0       0      0   \n",
            "14        0       0         0     0         0      0       0      0   \n",
            "15        0       0         0     0         0      0       0      0   \n",
            "16        0       0         0     0         0      0       0      0   \n",
            "17        0       0         0     0         0      0       0      0   \n",
            "18        0       0         0     0         0      0       0      0   \n",
            "19        0       0         0     0         0      0       0      0   \n",
            "20        0       0         0     0         0      0       0      0   \n",
            "21        0       0         0     0         0      0       0      0   \n",
            "22        0       0         0     0         0      0       0      0   \n",
            "23        0       0         0     0         0      0       0      0   \n",
            "24        0       0         0     0         0      0       0      0   \n",
            "\n",
            "    zygomatic  zyrtec  \n",
            "0           0       0  \n",
            "1           0       0  \n",
            "2           0       0  \n",
            "3           0       0  \n",
            "4           0       0  \n",
            "5           0       0  \n",
            "6           0       0  \n",
            "7           0       0  \n",
            "8           0       0  \n",
            "9           0       0  \n",
            "10          0       0  \n",
            "11          0       0  \n",
            "12          0       0  \n",
            "13          0       0  \n",
            "14          0       0  \n",
            "15          0       0  \n",
            "16          0       0  \n",
            "17          0       0  \n",
            "18          0       0  \n",
            "19          0       0  \n",
            "20          0       0  \n",
            "21          0       0  \n",
            "22          0       0  \n",
            "23          0       0  \n",
            "24          0       0  \n",
            "\n",
            "[25 rows x 13657 columns]\n"
          ]
        },
        {
          "data": {
            "text/plain": [
              "(811, 13657)"
            ]
          },
          "execution_count": 7,
          "metadata": {},
          "output_type": "execute_result"
        }
      ],
      "source": [
        "#‘count_vect.fit_transform(text)’, we are learning the vocabulary dictionary and it returns a Document-Term matrix. [n_samples, n_features]\n",
        "\n",
        "from sklearn.feature_extraction.text import CountVectorizer\n",
        "count_vect=CountVectorizer()\n",
        "samples=data[\"text\"]\n",
        "X_count=count_vect.fit_transform(samples)\n",
        "column=count_vect.get_feature_names_out()\n",
        "data_dtm = pd.DataFrame(X_count.toarray(), columns=column)\n",
        "#data_dtm.index=data.index\n",
        "data_dtm.sort_values(by='column' )\n",
        "print(data_dtm.head(25))\n",
        "#print(data_dtm.shape)\n",
        "X_count.shape"
      ]
    },
    {
      "cell_type": "code",
      "execution_count": null,
      "metadata": {
        "colab": {
          "base_uri": "https://localhost:8080/"
        },
        "id": "Wbc5lvcnKuZ6",
        "outputId": "0479e822-5eef-4ca6-c8c7-1865225fc2bc"
      },
      "outputs": [
        {
          "data": {
            "text/plain": [
              "(811, 13657)"
            ]
          },
          "execution_count": 8,
          "metadata": {},
          "output_type": "execute_result"
        }
      ],
      "source": [
        "from sklearn.feature_extraction.text import TfidfTransformer\n",
        "tfidf_transformer = TfidfTransformer()\n",
        "X_tfidf = tfidf_transformer.fit_transform(X_count)\n",
        "X_tfidf.shape"
      ]
    },
    {
      "attachments": {},
      "cell_type": "markdown",
      "metadata": {
        "id": "DAbX0ggcKuZ6"
      },
      "source": [
        "# Training Models"
      ]
    },
    {
      "cell_type": "code",
      "execution_count": null,
      "metadata": {
        "id": "RJ59q5KHKuZ6"
      },
      "outputs": [],
      "source": [
        "y=data.label"
      ]
    },
    {
      "cell_type": "code",
      "execution_count": null,
      "metadata": {
        "colab": {
          "base_uri": "https://localhost:8080/"
        },
        "id": "OmqHFdBqKuZ7",
        "outputId": "0fec86af-23e5-4c3a-9f15-87febb31a97a"
      },
      "outputs": [
        {
          "name": "stdout",
          "output_type": "stream",
          "text": [
            "(648, 13657)\n",
            "(163, 13657)\n"
          ]
        }
      ],
      "source": [
        "#split data in training and validation\n",
        "from sklearn.model_selection import train_test_split\n",
        "train_X, val_X, train_y, val_y=train_test_split(X_tfidf, y, test_size=0.2, random_state=42)\n",
        "\n",
        "print(train_X.shape)\n",
        "print(val_X.shape)"
      ]
    },
    {
      "cell_type": "code",
      "execution_count": null,
      "metadata": {
        "id": "Td3lZArAKuZ7"
      },
      "outputs": [],
      "source": [
        "#Evaluating the model\n",
        "from sklearn import metrics\n",
        "def evaluate_model(val_X, val_y, model_name):\n",
        "    document_pred=model_name.predict(val_X)\n",
        "    print(\"Confusion matrix: \", metrics.confusion_matrix(val_y, document_pred))\n",
        "    print(\"Accuracy score: \", metrics.accuracy_score(val_y, document_pred))\n",
        "    print(\"Precision score: \", metrics.precision_score(val_y, document_pred, average='weighted'))\n",
        "    print(\"Recall score: \", metrics.recall_score(val_y, document_pred, average='weighted'))\n",
        "    print(\"F1 score: \", metrics.f1_score(val_y, document_pred, average='weighted') )\n",
        "    print(\"Classification Report:\\n \", metrics.classification_report(val_y, document_pred))"
      ]
    },
    {
      "cell_type": "code",
      "execution_count": null,
      "metadata": {
        "colab": {
          "base_uri": "https://localhost:8080/"
        },
        "id": "vMa909_AKuZ8",
        "outputId": "f3dd138a-6b7b-4f60-868d-86ebdc9ee755"
      },
      "outputs": [
        {
          "name": "stdout",
          "output_type": "stream",
          "text": [
            "Confusion matrix:  [[28  0  6  2  0]\n",
            " [ 0  9 11 11  0]\n",
            " [ 0  1 36  4  0]\n",
            " [ 1  7  4 21  0]\n",
            " [ 4  0  8  1  9]]\n",
            "Accuracy score:  0.6319018404907976\n",
            "Precision score:  0.6713751063083434\n",
            "Recall score:  0.6319018404907976\n",
            "F1 score:  0.6178873708988252\n",
            "Classification Report:\n",
            "                    precision    recall  f1-score   support\n",
            "\n",
            "Gastroenterology       0.85      0.78      0.81        36\n",
            "       Neurology       0.53      0.29      0.38        31\n",
            "      Orthopedic       0.55      0.88      0.68        41\n",
            "       Radiology       0.54      0.64      0.58        33\n",
            "         Urology       1.00      0.41      0.58        22\n",
            "\n",
            "        accuracy                           0.63       163\n",
            "       macro avg       0.69      0.60      0.61       163\n",
            "    weighted avg       0.67      0.63      0.62       163\n",
            "\n"
          ]
        }
      ],
      "source": [
        "#Naive Bayes Model\n",
        "from sklearn.naive_bayes import MultinomialNB\n",
        "nb_model=MultinomialNB()\n",
        "nb_model.fit(train_X, train_y)\n",
        "evaluate_model(val_X, val_y, nb_model)"
      ]
    },
    {
      "cell_type": "code",
      "execution_count": null,
      "metadata": {
        "colab": {
          "base_uri": "https://localhost:8080/"
        },
        "id": "JbuXmrYKKuZ8",
        "outputId": "71fe1c8b-49a1-4444-cfc5-3e465587af2d"
      },
      "outputs": [
        {
          "name": "stdout",
          "output_type": "stream",
          "text": [
            "Confusion matrix:  [[35  0  0  1  0]\n",
            " [ 1 16  3 10  1]\n",
            " [ 0  1 35  5  0]\n",
            " [ 4  8  1 19  1]\n",
            " [ 2  0  0  0 20]]\n",
            "Accuracy score:  0.7668711656441718\n",
            "Precision score:  0.7641052607923774\n",
            "Recall score:  0.7668711656441718\n",
            "F1 score:  0.7628107637580751\n",
            "Classification Report:\n",
            "                    precision    recall  f1-score   support\n",
            "\n",
            "Gastroenterology       0.83      0.97      0.90        36\n",
            "       Neurology       0.64      0.52      0.57        31\n",
            "      Orthopedic       0.90      0.85      0.88        41\n",
            "       Radiology       0.54      0.58      0.56        33\n",
            "         Urology       0.91      0.91      0.91        22\n",
            "\n",
            "        accuracy                           0.77       163\n",
            "       macro avg       0.76      0.77      0.76       163\n",
            "    weighted avg       0.76      0.77      0.76       163\n",
            "\n"
          ]
        }
      ],
      "source": [
        "#SVM model\n",
        "from sklearn.linear_model import SGDClassifier\n",
        "svm_model=SGDClassifier(alpha=0.0023, l1_ratio=0.27, max_iter=1200)\n",
        "svm_model.fit(train_X, train_y)\n",
        "evaluate_model(val_X, val_y, svm_model)"
      ]
    },
    {
      "cell_type": "code",
      "execution_count": null,
      "metadata": {
        "colab": {
          "base_uri": "https://localhost:8080/"
        },
        "id": "rOptelheKuZ8",
        "outputId": "02aaa76f-22dc-4912-e0f0-479d40e77c8e"
      },
      "outputs": [
        {
          "name": "stdout",
          "output_type": "stream",
          "text": [
            "Confusion matrix:  [[28  0  3  1  4]\n",
            " [ 3  9  5 11  3]\n",
            " [ 3  6 23  5  4]\n",
            " [ 5  8  1 16  3]\n",
            " [ 3  1  0  2 16]]\n",
            "Accuracy score:  0.5644171779141104\n",
            "Precision score:  0.5638821939818872\n",
            "Recall score:  0.5644171779141104\n",
            "F1 score:  0.5576386388535705\n",
            "Classification Report:\n",
            "                    precision    recall  f1-score   support\n",
            "\n",
            "Gastroenterology       0.67      0.78      0.72        36\n",
            "       Neurology       0.38      0.29      0.33        31\n",
            "      Orthopedic       0.72      0.56      0.63        41\n",
            "       Radiology       0.46      0.48      0.47        33\n",
            "         Urology       0.53      0.73      0.62        22\n",
            "\n",
            "        accuracy                           0.56       163\n",
            "       macro avg       0.55      0.57      0.55       163\n",
            "    weighted avg       0.56      0.56      0.56       163\n",
            "\n"
          ]
        }
      ],
      "source": [
        "#Decision tree Classifier\n",
        "model_decisionTree=DecisionTreeClassifier(max_depth=18, min_samples_split=34, min_samples_leaf=2, random_state=1)\n",
        "model_decisionTree.fit(train_X, train_y)\n",
        "evaluate_model(val_X, val_y, model_decisionTree)"
      ]
    },
    {
      "cell_type": "code",
      "execution_count": null,
      "metadata": {
        "colab": {
          "base_uri": "https://localhost:8080/"
        },
        "id": "JjMeIRHKKuZ8",
        "outputId": "e2178681-c6f3-420e-c067-e64d74b6baea"
      },
      "outputs": [
        {
          "name": "stdout",
          "output_type": "stream",
          "text": [
            "Confusion matrix:  [[30  0  4  2  0]\n",
            " [ 0 11  8 12  0]\n",
            " [ 0  2 34  5  0]\n",
            " [ 2  8  1 22  0]\n",
            " [ 1  0  3  2 16]]\n",
            "Accuracy score:  0.6932515337423313\n",
            "Precision score:  0.7099944104024571\n",
            "Recall score:  0.6932515337423313\n",
            "F1 score:  0.691341558442961\n",
            "Classification Report:\n",
            "                    precision    recall  f1-score   support\n",
            "\n",
            "Gastroenterology       0.91      0.83      0.87        36\n",
            "       Neurology       0.52      0.35      0.42        31\n",
            "      Orthopedic       0.68      0.83      0.75        41\n",
            "       Radiology       0.51      0.67      0.58        33\n",
            "         Urology       1.00      0.73      0.84        22\n",
            "\n",
            "        accuracy                           0.69       163\n",
            "       macro avg       0.72      0.68      0.69       163\n",
            "    weighted avg       0.71      0.69      0.69       163\n",
            "\n"
          ]
        }
      ],
      "source": [
        "#Random Forest Classifier\n",
        "model_randomForest=RandomForestClassifier(n_estimators=250, max_depth=25, min_samples_split=25, min_samples_leaf=6, random_state=1)\n",
        "model_randomForest.fit(train_X, train_y)\n",
        "evaluate_model(val_X, val_y, model_randomForest)"
      ]
    },
    {
      "cell_type": "code",
      "execution_count": null,
      "metadata": {
        "colab": {
          "base_uri": "https://localhost:8080/"
        },
        "id": "Sz7QOFQOKuZ9",
        "outputId": "d1ccfe3a-a886-4b26-8d0b-0080cfda3a1d"
      },
      "outputs": [
        {
          "name": "stdout",
          "output_type": "stream",
          "text": [
            "Confusion matrix:  [[31  0  0  0  5]\n",
            " [ 0 23  2  3  3]\n",
            " [ 0  6 35  0  0]\n",
            " [ 5  9  2 16  1]\n",
            " [ 1  0  0  0 21]]\n",
            "Accuracy score:  0.7730061349693251\n",
            "Precision score:  0.7908568437790265\n",
            "Recall score:  0.7730061349693251\n",
            "F1 score:  0.7680609337996513\n",
            "Classification Report:\n",
            "                    precision    recall  f1-score   support\n",
            "\n",
            "Gastroenterology       0.84      0.86      0.85        36\n",
            "       Neurology       0.61      0.74      0.67        31\n",
            "      Orthopedic       0.90      0.85      0.88        41\n",
            "       Radiology       0.84      0.48      0.62        33\n",
            "         Urology       0.70      0.95      0.81        22\n",
            "\n",
            "        accuracy                           0.77       163\n",
            "       macro avg       0.78      0.78      0.76       163\n",
            "    weighted avg       0.79      0.77      0.77       163\n",
            "\n"
          ]
        },
        {
          "data": {
            "text/plain": [
              "<648x648 sparse matrix of type '<class 'numpy.float64'>'\n",
              "\twith 12960 stored elements in Compressed Sparse Row format>"
            ]
          },
          "execution_count": 16,
          "metadata": {},
          "output_type": "execute_result"
        }
      ],
      "source": [
        "#KNN\n",
        "from sklearn.neighbors import KNeighborsClassifier\n",
        "model_knn=KNeighborsClassifier(n_neighbors=20)\n",
        "model_knn.fit(train_X, train_y)\n",
        "evaluate_model(val_X, val_y, model_knn)\n",
        "model_knn.kneighbors_graph(train_X)"
      ]
    },
    {
      "attachments": {},
      "cell_type": "markdown",
      "metadata": {
        "id": "F-5S21N6KuZ9"
      },
      "source": [
        "# Visualisation\n"
      ]
    },
    {
      "cell_type": "code",
      "execution_count": null,
      "metadata": {
        "colab": {
          "base_uri": "https://localhost:8080/"
        },
        "id": "bC6FmYGMKuZ9",
        "outputId": "0b6b4cd4-23ad-4fdc-8566-7ac1d6ea07cf"
      },
      "outputs": [
        {
          "name": "stdout",
          "output_type": "stream",
          "text": [
            "Looking in indexes: https://pypi.org/simple, https://us-python.pkg.dev/colab-wheels/public/simple/\n",
            "Requirement already satisfied: seaborn in /usr/local/lib/python3.7/dist-packages (0.11.2)\n",
            "Requirement already satisfied: pandas>=0.23 in /usr/local/lib/python3.7/dist-packages (from seaborn) (1.3.5)\n",
            "Requirement already satisfied: matplotlib>=2.2 in /usr/local/lib/python3.7/dist-packages (from seaborn) (3.2.2)\n",
            "Requirement already satisfied: scipy>=1.0 in /usr/local/lib/python3.7/dist-packages (from seaborn) (1.7.3)\n",
            "Requirement already satisfied: numpy>=1.15 in /usr/local/lib/python3.7/dist-packages (from seaborn) (1.21.6)\n",
            "Requirement already satisfied: pyparsing!=2.0.4,!=2.1.2,!=2.1.6,>=2.0.1 in /usr/local/lib/python3.7/dist-packages (from matplotlib>=2.2->seaborn) (3.0.9)\n",
            "Requirement already satisfied: cycler>=0.10 in /usr/local/lib/python3.7/dist-packages (from matplotlib>=2.2->seaborn) (0.11.0)\n",
            "Requirement already satisfied: kiwisolver>=1.0.1 in /usr/local/lib/python3.7/dist-packages (from matplotlib>=2.2->seaborn) (1.4.4)\n",
            "Requirement already satisfied: python-dateutil>=2.1 in /usr/local/lib/python3.7/dist-packages (from matplotlib>=2.2->seaborn) (2.8.2)\n",
            "Requirement already satisfied: typing-extensions in /usr/local/lib/python3.7/dist-packages (from kiwisolver>=1.0.1->matplotlib>=2.2->seaborn) (4.1.1)\n",
            "Requirement already satisfied: pytz>=2017.3 in /usr/local/lib/python3.7/dist-packages (from pandas>=0.23->seaborn) (2022.6)\n",
            "Requirement already satisfied: six>=1.5 in /usr/local/lib/python3.7/dist-packages (from python-dateutil>=2.1->matplotlib>=2.2->seaborn) (1.15.0)\n",
            "Looking in indexes: https://pypi.org/simple, https://us-python.pkg.dev/colab-wheels/public/simple/\n",
            "Collecting streamlit\n",
            "  Downloading streamlit-1.15.1-py2.py3-none-any.whl (10.3 MB)\n",
            "\u001b[K     |████████████████████████████████| 10.3 MB 30.0 MB/s \n",
            "\u001b[?25hRequirement already satisfied: protobuf<4,>=3.12 in /usr/local/lib/python3.7/dist-packages (from streamlit) (3.19.6)\n",
            "Requirement already satisfied: importlib-metadata>=1.4 in /usr/local/lib/python3.7/dist-packages (from streamlit) (4.13.0)\n",
            "Requirement already satisfied: altair>=3.2.0 in /usr/local/lib/python3.7/dist-packages (from streamlit) (4.2.0)\n",
            "Collecting blinker>=1.0.0\n",
            "  Downloading blinker-1.5-py2.py3-none-any.whl (12 kB)\n",
            "Requirement already satisfied: click>=7.0 in /usr/local/lib/python3.7/dist-packages (from streamlit) (7.1.2)\n",
            "Requirement already satisfied: requests>=2.4 in /usr/local/lib/python3.7/dist-packages (from streamlit) (2.23.0)\n",
            "Collecting pydeck>=0.1.dev5\n",
            "  Downloading pydeck-0.8.0-py2.py3-none-any.whl (4.7 MB)\n",
            "\u001b[K     |████████████████████████████████| 4.7 MB 49.8 MB/s \n",
            "\u001b[?25hRequirement already satisfied: pandas>=0.21.0 in /usr/local/lib/python3.7/dist-packages (from streamlit) (1.3.5)\n",
            "Requirement already satisfied: numpy in /usr/local/lib/python3.7/dist-packages (from streamlit) (1.21.6)\n",
            "Requirement already satisfied: typing-extensions>=3.10.0.0 in /usr/local/lib/python3.7/dist-packages (from streamlit) (4.1.1)\n",
            "\u001b[31mERROR: Operation cancelled by user\u001b[0m\n"
          ]
        }
      ],
      "source": [
        "%pip install seaborn\n",
        "%pip install streamlit"
      ]
    },
    {
      "cell_type": "code",
      "execution_count": null,
      "metadata": {
        "colab": {
          "base_uri": "https://localhost:8080/",
          "height": 404
        },
        "id": "n0vRf4nxKuZ-",
        "outputId": "a64af51f-79fb-4540-f806-fb854e6a0290"
      },
      "outputs": [
        {
          "data": {
            "image/png": "[encoded data removed]",
            "text/plain": [
              "<Figure size 576x432 with 1 Axes>"
            ]
          },
          "metadata": {
            "needs_background": "light"
          },
          "output_type": "display_data"
        }
      ],
      "source": [
        "import seaborn as sns\n",
        "plt.figure(figsize=(8, 6))\n",
        "sns.countplot(x='label', data=data, color='gray')\n",
        "plt.xlabel(\"Label\")\n",
        "plt.title(\"Number of files of each label\")\n",
        "plt.show()"
      ]
    },
    {
      "cell_type": "code",
      "execution_count": null,
      "metadata": {
        "id": "Nk8Hl_9fKuZ-"
      },
      "outputs": [],
      "source": [
        "%pip install wordcloud\n",
        "%pip install textwrap"
      ]
    },
    {
      "cell_type": "code",
      "execution_count": null,
      "metadata": {
        "id": "7XT86t_ZKuZ_"
      },
      "outputs": [],
      "source": [
        "# Importing wordcloud for plotting word clouds and textwrap for wrapping longer text\n",
        "from operator import index\n",
        "from wordcloud import WordCloud\n",
        "from textwrap import wrap\n",
        "\n",
        "# Function for generating word clouds\n",
        "def generate_wordcloud(data,title):\n",
        "  wc = WordCloud(width=700, height=630, background_color=\"#f8d5de\",max_words=150,colormap=\"Dark2\").generate_from_frequencies(data)\n",
        "  plt.figure(figsize=(10,8))\n",
        "  plt.imshow(wc, interpolation='bilinear')\n",
        "  plt.axis(\"off\")\n",
        "  plt.title('\\n'.join(wrap(title,60)),fontsize=13)\n",
        "  plt.show()\n",
        "\n",
        "# Transposing document term matrix\n",
        "data_dtm=data_dtm.transpose()\n",
        "\n",
        "# Plotting word cloud for each product\n",
        "for text,label in enumerate(data_dtm.columns):\n",
        "  generate_wordcloud(data_dtm[label],label)"
      ]
    },
    {
      "cell_type": "code",
      "execution_count": null,
      "metadata": {
        "id": "6k6SoAusKuaA"
      },
      "outputs": [],
      "source": [
        "df_dtm.groupby('label').sum()['count'].sort_values(ascending=False).plot(\n",
        "    kind='bar',\n",
        "    figsize=(10, 6),\n",
        "    xlabel = \"Top Words\",\n",
        "    ylabel = \"Count\",\n",
        "    title = \"Bar Chart of Top Words Frequency\"\n",
        ")"
      ]
    },
    {
      "attachments": {},
      "cell_type": "markdown",
      "metadata": {
        "id": "UwtFOdZQuqUm"
      },
      "source": [
        "# Comparison of Models"
      ]
    },
    {
      "cell_type": "code",
      "execution_count": null,
      "metadata": {
        "colab": {
          "base_uri": "https://localhost:8080/",
          "height": 1000
        },
        "id": "_bwC3ihoux5Q",
        "outputId": "ec627516-a1d5-4c8f-aefa-227721050dac"
      },
      "outputs": [
        {
          "name": "stderr",
          "output_type": "stream",
          "text": [
            "/usr/local/lib/python3.7/dist-packages/sklearn/utils/deprecation.py:87: FutureWarning: Function plot_confusion_matrix is deprecated; Function `plot_confusion_matrix` is deprecated in 1.0 and will be removed in 1.2. Use one of the class methods: ConfusionMatrixDisplay.from_predictions or ConfusionMatrixDisplay.from_estimator.\n",
            "  warnings.warn(msg, category=FutureWarning)\n"
          ]
        },
        {
          "data": {
            "image/png": "[encoded data removed]",
            "text/plain": [
              "<Figure size 720x720 with 2 Axes>"
            ]
          },
          "metadata": {
            "needs_background": "light"
          },
          "output_type": "display_data"
        },
        {
          "name": "stderr",
          "output_type": "stream",
          "text": [
            "/usr/local/lib/python3.7/dist-packages/sklearn/utils/deprecation.py:87: FutureWarning: Function plot_confusion_matrix is deprecated; Function `plot_confusion_matrix` is deprecated in 1.0 and will be removed in 1.2. Use one of the class methods: ConfusionMatrixDisplay.from_predictions or ConfusionMatrixDisplay.from_estimator.\n",
            "  warnings.warn(msg, category=FutureWarning)\n"
          ]
        },
        {
          "data": {
            "image/png": "[encoded data removed]",
            "text/plain": [
              "<Figure size 720x720 with 2 Axes>"
            ]
          },
          "metadata": {
            "needs_background": "light"
          },
          "output_type": "display_data"
        },
        {
          "name": "stderr",
          "output_type": "stream",
          "text": [
            "/usr/local/lib/python3.7/dist-packages/sklearn/utils/deprecation.py:87: FutureWarning: Function plot_confusion_matrix is deprecated; Function `plot_confusion_matrix` is deprecated in 1.0 and will be removed in 1.2. Use one of the class methods: ConfusionMatrixDisplay.from_predictions or ConfusionMatrixDisplay.from_estimator.\n",
            "  warnings.warn(msg, category=FutureWarning)\n"
          ]
        },
        {
          "data": {
            "image/png": "[encoded data removed]",
            "text/plain": [
              "<Figure size 720x720 with 2 Axes>"
            ]
          },
          "metadata": {
            "needs_background": "light"
          },
          "output_type": "display_data"
        },
        {
          "name": "stderr",
          "output_type": "stream",
          "text": [
            "/usr/local/lib/python3.7/dist-packages/sklearn/utils/deprecation.py:87: FutureWarning: Function plot_confusion_matrix is deprecated; Function `plot_confusion_matrix` is deprecated in 1.0 and will be removed in 1.2. Use one of the class methods: ConfusionMatrixDisplay.from_predictions or ConfusionMatrixDisplay.from_estimator.\n",
            "  warnings.warn(msg, category=FutureWarning)\n"
          ]
        },
        {
          "data": {
            "image/png": "[encoded data removed]",
            "text/plain": [
              "<Figure size 720x720 with 2 Axes>"
            ]
          },
          "metadata": {
            "needs_background": "light"
          },
          "output_type": "display_data"
        },
        {
          "name": "stderr",
          "output_type": "stream",
          "text": [
            "/usr/local/lib/python3.7/dist-packages/sklearn/utils/deprecation.py:87: FutureWarning: Function plot_confusion_matrix is deprecated; Function `plot_confusion_matrix` is deprecated in 1.0 and will be removed in 1.2. Use one of the class methods: ConfusionMatrixDisplay.from_predictions or ConfusionMatrixDisplay.from_estimator.\n",
            "  warnings.warn(msg, category=FutureWarning)\n"
          ]
        },
        {
          "data": {
            "image/png": "[encoded data removed]",
            "text/plain": [
              "<Figure size 720x720 with 2 Axes>"
            ]
          },
          "metadata": {
            "needs_background": "light"
          },
          "output_type": "display_data"
        }
      ],
      "source": [
        "#Plot confusion matrix\n",
        "from sklearn.metrics import plot_confusion_matrix\n",
        "fig, ax=plt.subplots(figsize=(10,10))\n",
        "plot_confusion_matrix(model_randomForest, val_X, val_y, ax=ax)\n",
        "plt.title(\"Confusion Matrix for Random Forest\")\n",
        "plt.show()\n",
        "fig, ax=plt.subplots(figsize=(10,10))\n",
        "plot_confusion_matrix(model_knn, val_X, val_y, ax=ax)\n",
        "plt.title(\"Confusion Matrix for K Nearest Neighbour\")\n",
        "plt.show()\n",
        "fig, ax=plt.subplots(figsize=(10,10))\n",
        "plot_confusion_matrix(nb_model, val_X, val_y, ax=ax)\n",
        "plt.title(\"Confusion Matrix for Naive Bayes\")\n",
        "plt.show()\n",
        "fig, ax=plt.subplots(figsize=(10,10))\n",
        "plot_confusion_matrix(model_decisionTree, val_X, val_y, ax=ax)\n",
        "plt.title(\"Confusion Matrix for Decision Tree\")\n",
        "plt.show()\n",
        "fig, ax=plt.subplots(figsize=(10,10))\n",
        "plot_confusion_matrix(svm_model, val_X, val_y, ax=ax)\n",
        "plt.title(\"Confusion Matrix for SVM\")\n",
        "plt.show()"
      ]
    },
    {
      "cell_type": "code",
      "execution_count": null,
      "metadata": {
        "id": "jCT04udnvyGo"
      },
      "outputs": [],
      "source": [
        "#Plotting ROC_AUC curve of the models\n",
        "from sklearn.metrics import plot_roc_curve\n",
        "fig,ax=plt.subplots(figsize=(10,5))\n",
        "plot_roc_curve(model_randomForest, val_X, val_y, ax=ax, color='red', label='Random Forest')\n",
        "plot_roc_curve(model_knn, val_X, val_y, ax=ax, color='blue', label=\"K-Nearest Neighbour\")\n",
        "plot_roc_curve(nb_model, val_X, val_y, ax=ax, color='green', label=\"Naive Bayes\")\n",
        "plot_roc_curve(model_decisionTree, val_X, val_y, ax=ax, color='pink', label=\"Decision Tree\")\n",
        "plot_roc_curve(svm_model, val_X, val_y, ax=ax, color='aqua', label=\"SVM\")"
      ]
    },
    {
      "cell_type": "code",
      "execution_count": null,
      "metadata": {
        "id": "N7dQG1McEObS"
      },
      "outputs": [],
      "source": [
        "from sklearn.preprocessing import label_binarize\n",
        "from sklearn.metrics import plot_precision_recall_curve\n",
        "def precision_recall(model, X):\n",
        "  y = data.label\n",
        "  onehotencoder = OneHotEncoder()\n",
        "  y_hat = onehotencoder.fit_transform(y.reshape(-1,1)).toarray()\n",
        "  #y = y.astype(np.uint8)\n",
        "  n_classes = len(set(y_hat))\n",
        "\n",
        "  Y = label_binarize(data.label, classes=[*range(n_classes)])\n",
        "\n",
        "  X_train, X_test, y_train, y_test = train_test_split(X,\n",
        "                                                    Y, test_size=0.2,\n",
        "                                                    random_state = 42)\n",
        "\n",
        "  clf = OneVsRestClassifier(model)\n",
        "  clf.fit(X_train, y_train)\n",
        "\n",
        "  y_score = clf.predict_proba(X_test)\n",
        "  #pred=model.predict(val_X)\n",
        "\n",
        "  # precision recall curve\n",
        "  precision = dict()\n",
        "  recall = dict()\n",
        "  for i in range(n_classes):\n",
        "      precision[i], recall[i], _ = precision_recall_curve(y_test[:, i],\n",
        "                                                        y_score[:, i])\n",
        "      plt.plot(recall[i], precision[i], lw=2, label=label.format(i))\n",
        "\n",
        "  plt.xlabel(\"recall\")\n",
        "  plt.ylabel(\"precision\")\n",
        "  plt.legend(loc=\"best\")\n",
        "  plt.title(\"precision vs. recall curve\")\n",
        "  plt.show()"
      ]
    },
    {
      "cell_type": "code",
      "execution_count": null,
      "metadata": {
        "id": "E-LraLjlOSvf"
      },
      "outputs": [],
      "source": [
        "from sklearn.metrics import precision_recall_curve,roc_curve, auc, log_loss\n",
        "from sklearn.multiclass import OneVsRestClassifier\n",
        "from sklearn.preprocessing import OneHotEncoder\n",
        "def plot_precision_recall_curve(X, y, _classifier):\n",
        "    # keep the algorithm's name to be written down into the graph\n",
        "    algor_name = type(_classifier).__name__\n",
        "\n",
        "    # put y into multiple columns for OneVsRestClassifier\n",
        "    onehotencoder = OneHotEncoder()\n",
        "    y_hat = onehotencoder.fit_transform(y.reshape(-1,1)).toarray()\n",
        "    n_classes = y_hat.shape[1]\n",
        "# split train/test set\n",
        "    X_train, X_test, y_train, y_test = train_test_split(X, y_hat, test_size = 0.2, random_state = 42)\n",
        "# For each classifier, the class is fitted against all the other classes\n",
        "    clf_ovr = OneVsRestClassifier(_classifier)\n",
        "    clf_ovr.fit(X_train, y_train)\n",
        "    y_proba = clf_ovr.predict_proba(X_test)\n",
        "\n",
        "    # Compute ROC curve and ROC area for each class\n",
        "    fig = plt.figure()\n",
        "    plt.style.use('default')\n",
        "    precision = dict()\n",
        "    recall = dict()\n",
        "    for i in range(n_classes):\n",
        "        precision[i], recall[i], _ = precision_recall_curve(y_test[:, i], y_proba[:, i])\n",
        "        plt.plot(recall[i], precision[i], lw=2, label='PR Curve of class {}'.format(i))\n",
        "\n",
        "    plt.xlim([0.0, 1.0])\n",
        "    plt.ylim([0.0, 1.05])\n",
        "    plt.xlabel(\"recall\")\n",
        "    plt.ylabel(\"precision\")\n",
        "    plt.legend(loc=\"lower right\", prop={'size': 10})\n",
        "    plt.title('Precision-Recall to multi-class: ')\n",
        "    plt.suptitle(algor_name, fontsize=16)\n",
        "    fig.tight_layout(rect=[0, 0.03, 1, 0.95])\n",
        "    plt.show()"
      ]
    },
    {
      "cell_type": "code",
      "execution_count": null,
      "metadata": {
        "id": "VBZ9v26-Gre6"
      },
      "outputs": [],
      "source": [
        "#precision_recall(nb_model, X_tfidf)\n",
        "plot_precision_recall_curve(X_tfidf, y, model_randomForest)"
      ]
    },
    {
      "cell_type": "code",
      "execution_count": null,
      "metadata": {
        "id": "ujqNNq_Yv3h7"
      },
      "outputs": [],
      "source": [
        "#Plotting Precision recall curve of the models\n",
        "from sklearn.metrics import plot_precision_recall_curve\n",
        "fig,ax=plt.subplots(figsize=(10,5))\n",
        "plot_precision_recall_curve(model_randomForest, val_X, val_y, ax=ax, color='red', label='Random Forest')\n",
        "plot_precision_recall_curve(model_knn, val_X, val_y, ax=ax, color='blue', label=\"K-Nearest Neighbour\")\n",
        "plot_precision_recall_curve(nb_model, val_X, val_y, ax=ax, color='green', label=\"Naive Bayes\")\n",
        "plot_precision_recall_curve(model_decisionTree, val_X, val_y, ax=ax, color='pink', label=\"Decision Tree\")\n",
        "plot_precision_recall_curve(svm_model, val_X, val_y, ax=ax, color='aqua', label=\"SVM\")"
      ]
    },
    {
      "cell_type": "code",
      "execution_count": null,
      "metadata": {
        "colab": {
          "base_uri": "https://localhost:8080/"
        },
        "id": "iuOaH40SHn4v",
        "outputId": "88238c73-81dd-432e-987e-ded2bc3acabd"
      },
      "outputs": [
        {
          "data": {
            "text/plain": [
              "(811, 5)"
            ]
          },
          "execution_count": 25,
          "metadata": {},
          "output_type": "execute_result"
        }
      ],
      "source": [
        "y.shape"
      ]
    },
    {
      "cell_type": "code",
      "execution_count": null,
      "metadata": {
        "id": "LZFDb8wPAZgA"
      },
      "outputs": [],
      "source": [
        "from sklearn.metrics import roc_curve, auc\n",
        "from sklearn.model_selection import train_test_split\n",
        "from sklearn.preprocessing import label_binarize\n",
        "from sklearn.multiclass import OneVsRestClassifier\n",
        "\n",
        "# Binarize the output\n",
        "y_new = label_binarize(y, classes=np.unique(y))\n",
        "n_classes = y_new.shape[0]\n",
        "\n",
        "# shuffle and split training and test sets\n",
        "X_train, X_test, y_train, y_test = train_test_split(X_tfidf, y, test_size=0.2, random_state=42)\n",
        "\n",
        "# Learn to predict each class against the other\n",
        "classifier = OneVsRestClassifier(RandomForestClassifier(n_estimators=250, max_depth=25, min_samples_split=25, min_samples_leaf=6, random_state=1))\n",
        "y_score = classifier.fit(X_train, y_train).predict_proba(X_test)\n",
        "#y_score_2=label_binarize(y, classes=np.unique(y))\n",
        "n_classes = classes.shape[0]\n",
        "# Compute ROC curve and ROC area for each class\n",
        "fpr = dict()\n",
        "tpr = dict()\n",
        "roc_auc = dict()\n",
        "for i in range(n_classes):\n",
        "    fpr[i], tpr[i], _ = roc_curve(y_test[:, i], y_score[:, i])\n",
        "    roc_auc[i] = auc(fpr[i], tpr[i])"
      ]
    },
    {
      "cell_type": "code",
      "execution_count": null,
      "metadata": {
        "colab": {
          "base_uri": "https://localhost:8080/",
          "height": 295
        },
        "id": "vMfXvTpRUnFG",
        "outputId": "56145ec7-3741-4d27-a795-0e1cd9a6fad5"
      },
      "outputs": [
        {
          "data": {
            "image/png": "[encoded data removed]",
            "text/plain": [
              "<Figure size 432x288 with 1 Axes>"
            ]
          },
          "metadata": {
            "needs_background": "light"
          },
          "output_type": "display_data"
        }
      ],
      "source": [
        "plt.figure()\n",
        "lw = 2\n",
        "plt.plot(\n",
        "    fpr[2],\n",
        "    tpr[2],\n",
        "    color=\"darkorange\",\n",
        "    lw=lw,\n",
        "    label=\"ROC curve (area = %0.2f)\" % roc_auc[2],\n",
        ")\n",
        "plt.plot([0, 1], [0, 1], color=\"navy\", lw=lw, linestyle=\"--\")\n",
        "plt.xlim([0.0, 1.0])\n",
        "plt.ylim([0.0, 1.05])\n",
        "plt.xlabel(\"False Positive Rate\")\n",
        "plt.ylabel(\"True Positive Rate\")\n",
        "plt.title(\"Receiver operating characteristic example\")\n",
        "plt.legend(loc=\"lower right\")\n",
        "plt.show()"
      ]
    }
  ],
  "metadata": {
    "colab": {
      "provenance": []
    },
    "kernelspec": {
      "display_name": "Python 3",
      "language": "python",
      "name": "python3"
    },
    "language_info": {
      "codemirror_mode": {
        "name": "ipython",
        "version": 3
      },
      "file_extension": ".py",
      "mimetype": "text/x-python",
      "name": "python",
      "nbconvert_exporter": "python",
      "pygments_lexer": "ipython3",
      "version": "3.6.9"
    },
    "vscode": {
      "interpreter": {
        "hash": "bfec6bd5f7ab173122b19768c6b249b9a9641bc8efd73024ed417065cf42d631"
      }
    },
    "widgets": {
      "application/vnd.jupyter.widget-state+json": {
        "0061a8c7accc49af9d0c927b793ca778": {
          "model_module": "@jupyter-widgets/base",
          "model_module_version": "1.2.0",
          "model_name": "LayoutModel",
          "state": {
            "_model_module": "@jupyter-widgets/base",
            "_model_module_version": "1.2.0",
            "_model_name": "LayoutModel",
            "_view_count": null,
            "_view_module": "@jupyter-widgets/base",
            "_view_module_version": "1.2.0",
            "_view_name": "LayoutView",
            "align_content": null,
            "align_items": null,
            "align_self": null,
            "border": null,
            "bottom": null,
            "display": null,
            "flex": null,
            "flex_flow": null,
            "grid_area": null,
            "grid_auto_columns": null,
            "grid_auto_flow": null,
            "grid_auto_rows": null,
            "grid_column": null,
            "grid_gap": null,
            "grid_row": null,
            "grid_template_areas": null,
            "grid_template_columns": null,
            "grid_template_rows": null,
            "height": null,
            "justify_content": null,
            "justify_items": null,
            "left": null,
            "margin": null,
            "max_height": null,
            "max_width": null,
            "min_height": null,
            "min_width": null,
            "object_fit": null,
            "object_position": null,
            "order": null,
            "overflow": null,
            "overflow_x": null,
            "overflow_y": null,
            "padding": null,
            "right": null,
            "top": null,
            "visibility": null,
            "width": null
          }
        },
        "0b437b4885424829a5423c09112bbb59": {
          "model_module": "@jupyter-widgets/base",
          "model_module_version": "1.2.0",
          "model_name": "LayoutModel",
          "state": {
            "_model_module": "@jupyter-widgets/base",
            "_model_module_version": "1.2.0",
            "_model_name": "LayoutModel",
            "_view_count": null,
            "_view_module": "@jupyter-widgets/base",
            "_view_module_version": "1.2.0",
            "_view_name": "LayoutView",
            "align_content": null,
            "align_items": null,
            "align_self": null,
            "border": null,
            "bottom": null,
            "display": null,
            "flex": null,
            "flex_flow": null,
            "grid_area": null,
            "grid_auto_columns": null,
            "grid_auto_flow": null,
            "grid_auto_rows": null,
            "grid_column": null,
            "grid_gap": null,
            "grid_row": null,
            "grid_template_areas": null,
            "grid_template_columns": null,
            "grid_template_rows": null,
            "height": null,
            "justify_content": null,
            "justify_items": null,
            "left": null,
            "margin": null,
            "max_height": null,
            "max_width": null,
            "min_height": null,
            "min_width": null,
            "object_fit": null,
            "object_position": null,
            "order": null,
            "overflow": null,
            "overflow_x": null,
            "overflow_y": null,
            "padding": null,
            "right": null,
            "top": null,
            "visibility": null,
            "width": null
          }
        },
        "12f96117836d470fb9297fa1c0d47692": {
          "model_module": "@jupyter-widgets/controls",
          "model_module_version": "1.5.0",
          "model_name": "FloatProgressModel",
          "state": {
            "_dom_classes": [],
            "_model_module": "@jupyter-widgets/controls",
            "_model_module_version": "1.5.0",
            "_model_name": "FloatProgressModel",
            "_view_count": null,
            "_view_module": "@jupyter-widgets/controls",
            "_view_module_version": "1.5.0",
            "_view_name": "ProgressView",
            "bar_style": "success",
            "description": "",
            "description_tooltip": null,
            "layout": "IPY_MODEL_f8c2b8b3527141f4939ad3f13a8f2b46",
            "max": 231508,
            "min": 0,
            "orientation": "horizontal",
            "style": "IPY_MODEL_604f7870fd1c459fbe6e9f8b7d000443",
            "value": 231508
          }
        },
        "2cf9b18b5be94d539b8f6a2a24fc5a3f": {
          "model_module": "@jupyter-widgets/controls",
          "model_module_version": "1.5.0",
          "model_name": "HTMLModel",
          "state": {
            "_dom_classes": [],
            "_model_module": "@jupyter-widgets/controls",
            "_model_module_version": "1.5.0",
            "_model_name": "HTMLModel",
            "_view_count": null,
            "_view_module": "@jupyter-widgets/controls",
            "_view_module_version": "1.5.0",
            "_view_name": "HTMLView",
            "description": "",
            "description_tooltip": null,
            "layout": "IPY_MODEL_57c4508c1c594298abe291b1dce67176",
            "placeholder": "​",
            "style": "IPY_MODEL_ab8514e2cf314dbaaee7f2b8ba6347f5",
            "value": "Downloading: 100%"
          }
        },
        "31982f94e489427cb52416be4101ccc9": {
          "model_module": "@jupyter-widgets/controls",
          "model_module_version": "1.5.0",
          "model_name": "DescriptionStyleModel",
          "state": {
            "_model_module": "@jupyter-widgets/controls",
            "_model_module_version": "1.5.0",
            "_model_name": "DescriptionStyleModel",
            "_view_count": null,
            "_view_module": "@jupyter-widgets/base",
            "_view_module_version": "1.2.0",
            "_view_name": "StyleView",
            "description_width": ""
          }
        },
        "32ab486092084062a8d4bc7ddd3cd436": {
          "model_module": "@jupyter-widgets/base",
          "model_module_version": "1.2.0",
          "model_name": "LayoutModel",
          "state": {
            "_model_module": "@jupyter-widgets/base",
            "_model_module_version": "1.2.0",
            "_model_name": "LayoutModel",
            "_view_count": null,
            "_view_module": "@jupyter-widgets/base",
            "_view_module_version": "1.2.0",
            "_view_name": "LayoutView",
            "align_content": null,
            "align_items": null,
            "align_self": null,
            "border": null,
            "bottom": null,
            "display": null,
            "flex": null,
            "flex_flow": null,
            "grid_area": null,
            "grid_auto_columns": null,
            "grid_auto_flow": null,
            "grid_auto_rows": null,
            "grid_column": null,
            "grid_gap": null,
            "grid_row": null,
            "grid_template_areas": null,
            "grid_template_columns": null,
            "grid_template_rows": null,
            "height": null,
            "justify_content": null,
            "justify_items": null,
            "left": null,
            "margin": null,
            "max_height": null,
            "max_width": null,
            "min_height": null,
            "min_width": null,
            "object_fit": null,
            "object_position": null,
            "order": null,
            "overflow": null,
            "overflow_x": null,
            "overflow_y": null,
            "padding": null,
            "right": null,
            "top": null,
            "visibility": null,
            "width": null
          }
        },
        "396c636ef2064638a2bbb1dedad95a29": {
          "model_module": "@jupyter-widgets/controls",
          "model_module_version": "1.5.0",
          "model_name": "DescriptionStyleModel",
          "state": {
            "_model_module": "@jupyter-widgets/controls",
            "_model_module_version": "1.5.0",
            "_model_name": "DescriptionStyleModel",
            "_view_count": null,
            "_view_module": "@jupyter-widgets/base",
            "_view_module_version": "1.2.0",
            "_view_name": "StyleView",
            "description_width": ""
          }
        },
        "4297f2544007481da0e9a0fa23df6cba": {
          "model_module": "@jupyter-widgets/controls",
          "model_module_version": "1.5.0",
          "model_name": "HBoxModel",
          "state": {
            "_dom_classes": [],
            "_model_module": "@jupyter-widgets/controls",
            "_model_module_version": "1.5.0",
            "_model_name": "HBoxModel",
            "_view_count": null,
            "_view_module": "@jupyter-widgets/controls",
            "_view_module_version": "1.5.0",
            "_view_name": "HBoxView",
            "box_style": "",
            "children": [
              "IPY_MODEL_2cf9b18b5be94d539b8f6a2a24fc5a3f",
              "IPY_MODEL_a7a08e3970b348b1a4d4439fb2e3f608",
              "IPY_MODEL_670095743a0148f6a524482a4c41649a"
            ],
            "layout": "IPY_MODEL_8328bac87ceb4552b0fd0c0d3c15e9c9"
          }
        },
        "4413b865fb7c437883afef288f47d81a": {
          "model_module": "@jupyter-widgets/controls",
          "model_module_version": "1.5.0",
          "model_name": "HTMLModel",
          "state": {
            "_dom_classes": [],
            "_model_module": "@jupyter-widgets/controls",
            "_model_module_version": "1.5.0",
            "_model_name": "HTMLModel",
            "_view_count": null,
            "_view_module": "@jupyter-widgets/controls",
            "_view_module_version": "1.5.0",
            "_view_name": "HTMLView",
            "description": "",
            "description_tooltip": null,
            "layout": "IPY_MODEL_950950f3b4a944beb19614e996d03ec4",
            "placeholder": "​",
            "style": "IPY_MODEL_31982f94e489427cb52416be4101ccc9",
            "value": "Downloading: 100%"
          }
        },
        "46ad67bab0094a80879e48c956cd5034": {
          "model_module": "@jupyter-widgets/controls",
          "model_module_version": "1.5.0",
          "model_name": "HTMLModel",
          "state": {
            "_dom_classes": [],
            "_model_module": "@jupyter-widgets/controls",
            "_model_module_version": "1.5.0",
            "_model_name": "HTMLModel",
            "_view_count": null,
            "_view_module": "@jupyter-widgets/controls",
            "_view_module_version": "1.5.0",
            "_view_name": "HTMLView",
            "description": "",
            "description_tooltip": null,
            "layout": "IPY_MODEL_9af09d9cdc444cbb8f9387a58e61baa4",
            "placeholder": "​",
            "style": "IPY_MODEL_516e7656853544c69d6dce2529af2e3a",
            "value": " 232k/232k [00:00&lt;00:00, 8.50kB/s]"
          }
        },
        "4d547216258a46e9b311aaa73e4217e0": {
          "model_module": "@jupyter-widgets/controls",
          "model_module_version": "1.5.0",
          "model_name": "ProgressStyleModel",
          "state": {
            "_model_module": "@jupyter-widgets/controls",
            "_model_module_version": "1.5.0",
            "_model_name": "ProgressStyleModel",
            "_view_count": null,
            "_view_module": "@jupyter-widgets/base",
            "_view_module_version": "1.2.0",
            "_view_name": "StyleView",
            "bar_color": null,
            "description_width": ""
          }
        },
        "516e7656853544c69d6dce2529af2e3a": {
          "model_module": "@jupyter-widgets/controls",
          "model_module_version": "1.5.0",
          "model_name": "DescriptionStyleModel",
          "state": {
            "_model_module": "@jupyter-widgets/controls",
            "_model_module_version": "1.5.0",
            "_model_name": "DescriptionStyleModel",
            "_view_count": null,
            "_view_module": "@jupyter-widgets/base",
            "_view_module_version": "1.2.0",
            "_view_name": "StyleView",
            "description_width": ""
          }
        },
        "51d490ff48cd4744855d24b003e2f0a2": {
          "model_module": "@jupyter-widgets/controls",
          "model_module_version": "1.5.0",
          "model_name": "ProgressStyleModel",
          "state": {
            "_model_module": "@jupyter-widgets/controls",
            "_model_module_version": "1.5.0",
            "_model_name": "ProgressStyleModel",
            "_view_count": null,
            "_view_module": "@jupyter-widgets/base",
            "_view_module_version": "1.2.0",
            "_view_name": "StyleView",
            "bar_color": null,
            "description_width": ""
          }
        },
        "57c4508c1c594298abe291b1dce67176": {
          "model_module": "@jupyter-widgets/base",
          "model_module_version": "1.2.0",
          "model_name": "LayoutModel",
          "state": {
            "_model_module": "@jupyter-widgets/base",
            "_model_module_version": "1.2.0",
            "_model_name": "LayoutModel",
            "_view_count": null,
            "_view_module": "@jupyter-widgets/base",
            "_view_module_version": "1.2.0",
            "_view_name": "LayoutView",
            "align_content": null,
            "align_items": null,
            "align_self": null,
            "border": null,
            "bottom": null,
            "display": null,
            "flex": null,
            "flex_flow": null,
            "grid_area": null,
            "grid_auto_columns": null,
            "grid_auto_flow": null,
            "grid_auto_rows": null,
            "grid_column": null,
            "grid_gap": null,
            "grid_row": null,
            "grid_template_areas": null,
            "grid_template_columns": null,
            "grid_template_rows": null,
            "height": null,
            "justify_content": null,
            "justify_items": null,
            "left": null,
            "margin": null,
            "max_height": null,
            "max_width": null,
            "min_height": null,
            "min_width": null,
            "object_fit": null,
            "object_position": null,
            "order": null,
            "overflow": null,
            "overflow_x": null,
            "overflow_y": null,
            "padding": null,
            "right": null,
            "top": null,
            "visibility": null,
            "width": null
          }
        },
        "604f7870fd1c459fbe6e9f8b7d000443": {
          "model_module": "@jupyter-widgets/controls",
          "model_module_version": "1.5.0",
          "model_name": "ProgressStyleModel",
          "state": {
            "_model_module": "@jupyter-widgets/controls",
            "_model_module_version": "1.5.0",
            "_model_name": "ProgressStyleModel",
            "_view_count": null,
            "_view_module": "@jupyter-widgets/base",
            "_view_module_version": "1.2.0",
            "_view_name": "StyleView",
            "bar_color": null,
            "description_width": ""
          }
        },
        "61f7cb5601854aa8a0e6914c3f69705a": {
          "model_module": "@jupyter-widgets/base",
          "model_module_version": "1.2.0",
          "model_name": "LayoutModel",
          "state": {
            "_model_module": "@jupyter-widgets/base",
            "_model_module_version": "1.2.0",
            "_model_name": "LayoutModel",
            "_view_count": null,
            "_view_module": "@jupyter-widgets/base",
            "_view_module_version": "1.2.0",
            "_view_name": "LayoutView",
            "align_content": null,
            "align_items": null,
            "align_self": null,
            "border": null,
            "bottom": null,
            "display": null,
            "flex": null,
            "flex_flow": null,
            "grid_area": null,
            "grid_auto_columns": null,
            "grid_auto_flow": null,
            "grid_auto_rows": null,
            "grid_column": null,
            "grid_gap": null,
            "grid_row": null,
            "grid_template_areas": null,
            "grid_template_columns": null,
            "grid_template_rows": null,
            "height": null,
            "justify_content": null,
            "justify_items": null,
            "left": null,
            "margin": null,
            "max_height": null,
            "max_width": null,
            "min_height": null,
            "min_width": null,
            "object_fit": null,
            "object_position": null,
            "order": null,
            "overflow": null,
            "overflow_x": null,
            "overflow_y": null,
            "padding": null,
            "right": null,
            "top": null,
            "visibility": null,
            "width": null
          }
        },
        "670095743a0148f6a524482a4c41649a": {
          "model_module": "@jupyter-widgets/controls",
          "model_module_version": "1.5.0",
          "model_name": "HTMLModel",
          "state": {
            "_dom_classes": [],
            "_model_module": "@jupyter-widgets/controls",
            "_model_module_version": "1.5.0",
            "_model_name": "HTMLModel",
            "_view_count": null,
            "_view_module": "@jupyter-widgets/controls",
            "_view_module_version": "1.5.0",
            "_view_name": "HTMLView",
            "description": "",
            "description_tooltip": null,
            "layout": "IPY_MODEL_32ab486092084062a8d4bc7ddd3cd436",
            "placeholder": "​",
            "style": "IPY_MODEL_396c636ef2064638a2bbb1dedad95a29",
            "value": " 28.0/28.0 [00:00&lt;00:00, 245B/s]"
          }
        },
        "7d92243d603e49d4bf1f005f0a08e76c": {
          "model_module": "@jupyter-widgets/controls",
          "model_module_version": "1.5.0",
          "model_name": "HBoxModel",
          "state": {
            "_dom_classes": [],
            "_model_module": "@jupyter-widgets/controls",
            "_model_module_version": "1.5.0",
            "_model_name": "HBoxModel",
            "_view_count": null,
            "_view_module": "@jupyter-widgets/controls",
            "_view_module_version": "1.5.0",
            "_view_name": "HBoxView",
            "box_style": "",
            "children": [
              "IPY_MODEL_c09e4266f95f42f598fedce42e4a9211",
              "IPY_MODEL_8fd2b94002ec4650abbd2f3fa67f1324",
              "IPY_MODEL_c4163f88266d401eb5d3e2d8b77158d5"
            ],
            "layout": "IPY_MODEL_a05df41760a148df8abb52f51718aa4d"
          }
        },
        "8222c4fba6794658aef1edb434e037d4": {
          "model_module": "@jupyter-widgets/base",
          "model_module_version": "1.2.0",
          "model_name": "LayoutModel",
          "state": {
            "_model_module": "@jupyter-widgets/base",
            "_model_module_version": "1.2.0",
            "_model_name": "LayoutModel",
            "_view_count": null,
            "_view_module": "@jupyter-widgets/base",
            "_view_module_version": "1.2.0",
            "_view_name": "LayoutView",
            "align_content": null,
            "align_items": null,
            "align_self": null,
            "border": null,
            "bottom": null,
            "display": null,
            "flex": null,
            "flex_flow": null,
            "grid_area": null,
            "grid_auto_columns": null,
            "grid_auto_flow": null,
            "grid_auto_rows": null,
            "grid_column": null,
            "grid_gap": null,
            "grid_row": null,
            "grid_template_areas": null,
            "grid_template_columns": null,
            "grid_template_rows": null,
            "height": null,
            "justify_content": null,
            "justify_items": null,
            "left": null,
            "margin": null,
            "max_height": null,
            "max_width": null,
            "min_height": null,
            "min_width": null,
            "object_fit": null,
            "object_position": null,
            "order": null,
            "overflow": null,
            "overflow_x": null,
            "overflow_y": null,
            "padding": null,
            "right": null,
            "top": null,
            "visibility": null,
            "width": null
          }
        },
        "8328bac87ceb4552b0fd0c0d3c15e9c9": {
          "model_module": "@jupyter-widgets/base",
          "model_module_version": "1.2.0",
          "model_name": "LayoutModel",
          "state": {
            "_model_module": "@jupyter-widgets/base",
            "_model_module_version": "1.2.0",
            "_model_name": "LayoutModel",
            "_view_count": null,
            "_view_module": "@jupyter-widgets/base",
            "_view_module_version": "1.2.0",
            "_view_name": "LayoutView",
            "align_content": null,
            "align_items": null,
            "align_self": null,
            "border": null,
            "bottom": null,
            "display": null,
            "flex": null,
            "flex_flow": null,
            "grid_area": null,
            "grid_auto_columns": null,
            "grid_auto_flow": null,
            "grid_auto_rows": null,
            "grid_column": null,
            "grid_gap": null,
            "grid_row": null,
            "grid_template_areas": null,
            "grid_template_columns": null,
            "grid_template_rows": null,
            "height": null,
            "justify_content": null,
            "justify_items": null,
            "left": null,
            "margin": null,
            "max_height": null,
            "max_width": null,
            "min_height": null,
            "min_width": null,
            "object_fit": null,
            "object_position": null,
            "order": null,
            "overflow": null,
            "overflow_x": null,
            "overflow_y": null,
            "padding": null,
            "right": null,
            "top": null,
            "visibility": null,
            "width": null
          }
        },
        "8fd2b94002ec4650abbd2f3fa67f1324": {
          "model_module": "@jupyter-widgets/controls",
          "model_module_version": "1.5.0",
          "model_name": "FloatProgressModel",
          "state": {
            "_dom_classes": [],
            "_model_module": "@jupyter-widgets/controls",
            "_model_module_version": "1.5.0",
            "_model_name": "FloatProgressModel",
            "_view_count": null,
            "_view_module": "@jupyter-widgets/controls",
            "_view_module_version": "1.5.0",
            "_view_name": "ProgressView",
            "bar_style": "success",
            "description": "",
            "description_tooltip": null,
            "layout": "IPY_MODEL_cd0d46525f6843629969cf53544d51ec",
            "max": 570,
            "min": 0,
            "orientation": "horizontal",
            "style": "IPY_MODEL_4d547216258a46e9b311aaa73e4217e0",
            "value": 570
          }
        },
        "91e208375b514df8a06163c40b421fbd": {
          "model_module": "@jupyter-widgets/controls",
          "model_module_version": "1.5.0",
          "model_name": "HBoxModel",
          "state": {
            "_dom_classes": [],
            "_model_module": "@jupyter-widgets/controls",
            "_model_module_version": "1.5.0",
            "_model_name": "HBoxModel",
            "_view_count": null,
            "_view_module": "@jupyter-widgets/controls",
            "_view_module_version": "1.5.0",
            "_view_name": "HBoxView",
            "box_style": "",
            "children": [
              "IPY_MODEL_4413b865fb7c437883afef288f47d81a",
              "IPY_MODEL_12f96117836d470fb9297fa1c0d47692",
              "IPY_MODEL_46ad67bab0094a80879e48c956cd5034"
            ],
            "layout": "IPY_MODEL_8222c4fba6794658aef1edb434e037d4"
          }
        },
        "950950f3b4a944beb19614e996d03ec4": {
          "model_module": "@jupyter-widgets/base",
          "model_module_version": "1.2.0",
          "model_name": "LayoutModel",
          "state": {
            "_model_module": "@jupyter-widgets/base",
            "_model_module_version": "1.2.0",
            "_model_name": "LayoutModel",
            "_view_count": null,
            "_view_module": "@jupyter-widgets/base",
            "_view_module_version": "1.2.0",
            "_view_name": "LayoutView",
            "align_content": null,
            "align_items": null,
            "align_self": null,
            "border": null,
            "bottom": null,
            "display": null,
            "flex": null,
            "flex_flow": null,
            "grid_area": null,
            "grid_auto_columns": null,
            "grid_auto_flow": null,
            "grid_auto_rows": null,
            "grid_column": null,
            "grid_gap": null,
            "grid_row": null,
            "grid_template_areas": null,
            "grid_template_columns": null,
            "grid_template_rows": null,
            "height": null,
            "justify_content": null,
            "justify_items": null,
            "left": null,
            "margin": null,
            "max_height": null,
            "max_width": null,
            "min_height": null,
            "min_width": null,
            "object_fit": null,
            "object_position": null,
            "order": null,
            "overflow": null,
            "overflow_x": null,
            "overflow_y": null,
            "padding": null,
            "right": null,
            "top": null,
            "visibility": null,
            "width": null
          }
        },
        "9af09d9cdc444cbb8f9387a58e61baa4": {
          "model_module": "@jupyter-widgets/base",
          "model_module_version": "1.2.0",
          "model_name": "LayoutModel",
          "state": {
            "_model_module": "@jupyter-widgets/base",
            "_model_module_version": "1.2.0",
            "_model_name": "LayoutModel",
            "_view_count": null,
            "_view_module": "@jupyter-widgets/base",
            "_view_module_version": "1.2.0",
            "_view_name": "LayoutView",
            "align_content": null,
            "align_items": null,
            "align_self": null,
            "border": null,
            "bottom": null,
            "display": null,
            "flex": null,
            "flex_flow": null,
            "grid_area": null,
            "grid_auto_columns": null,
            "grid_auto_flow": null,
            "grid_auto_rows": null,
            "grid_column": null,
            "grid_gap": null,
            "grid_row": null,
            "grid_template_areas": null,
            "grid_template_columns": null,
            "grid_template_rows": null,
            "height": null,
            "justify_content": null,
            "justify_items": null,
            "left": null,
            "margin": null,
            "max_height": null,
            "max_width": null,
            "min_height": null,
            "min_width": null,
            "object_fit": null,
            "object_position": null,
            "order": null,
            "overflow": null,
            "overflow_x": null,
            "overflow_y": null,
            "padding": null,
            "right": null,
            "top": null,
            "visibility": null,
            "width": null
          }
        },
        "a05df41760a148df8abb52f51718aa4d": {
          "model_module": "@jupyter-widgets/base",
          "model_module_version": "1.2.0",
          "model_name": "LayoutModel",
          "state": {
            "_model_module": "@jupyter-widgets/base",
            "_model_module_version": "1.2.0",
            "_model_name": "LayoutModel",
            "_view_count": null,
            "_view_module": "@jupyter-widgets/base",
            "_view_module_version": "1.2.0",
            "_view_name": "LayoutView",
            "align_content": null,
            "align_items": null,
            "align_self": null,
            "border": null,
            "bottom": null,
            "display": null,
            "flex": null,
            "flex_flow": null,
            "grid_area": null,
            "grid_auto_columns": null,
            "grid_auto_flow": null,
            "grid_auto_rows": null,
            "grid_column": null,
            "grid_gap": null,
            "grid_row": null,
            "grid_template_areas": null,
            "grid_template_columns": null,
            "grid_template_rows": null,
            "height": null,
            "justify_content": null,
            "justify_items": null,
            "left": null,
            "margin": null,
            "max_height": null,
            "max_width": null,
            "min_height": null,
            "min_width": null,
            "object_fit": null,
            "object_position": null,
            "order": null,
            "overflow": null,
            "overflow_x": null,
            "overflow_y": null,
            "padding": null,
            "right": null,
            "top": null,
            "visibility": null,
            "width": null
          }
        },
        "a7a08e3970b348b1a4d4439fb2e3f608": {
          "model_module": "@jupyter-widgets/controls",
          "model_module_version": "1.5.0",
          "model_name": "FloatProgressModel",
          "state": {
            "_dom_classes": [],
            "_model_module": "@jupyter-widgets/controls",
            "_model_module_version": "1.5.0",
            "_model_name": "FloatProgressModel",
            "_view_count": null,
            "_view_module": "@jupyter-widgets/controls",
            "_view_module_version": "1.5.0",
            "_view_name": "ProgressView",
            "bar_style": "success",
            "description": "",
            "description_tooltip": null,
            "layout": "IPY_MODEL_0b437b4885424829a5423c09112bbb59",
            "max": 28,
            "min": 0,
            "orientation": "horizontal",
            "style": "IPY_MODEL_51d490ff48cd4744855d24b003e2f0a2",
            "value": 28
          }
        },
        "ab8514e2cf314dbaaee7f2b8ba6347f5": {
          "model_module": "@jupyter-widgets/controls",
          "model_module_version": "1.5.0",
          "model_name": "DescriptionStyleModel",
          "state": {
            "_model_module": "@jupyter-widgets/controls",
            "_model_module_version": "1.5.0",
            "_model_name": "DescriptionStyleModel",
            "_view_count": null,
            "_view_module": "@jupyter-widgets/base",
            "_view_module_version": "1.2.0",
            "_view_name": "StyleView",
            "description_width": ""
          }
        },
        "b6c1e54732f341868b833af2cf056ec6": {
          "model_module": "@jupyter-widgets/controls",
          "model_module_version": "1.5.0",
          "model_name": "DescriptionStyleModel",
          "state": {
            "_model_module": "@jupyter-widgets/controls",
            "_model_module_version": "1.5.0",
            "_model_name": "DescriptionStyleModel",
            "_view_count": null,
            "_view_module": "@jupyter-widgets/base",
            "_view_module_version": "1.2.0",
            "_view_name": "StyleView",
            "description_width": ""
          }
        },
        "c09e4266f95f42f598fedce42e4a9211": {
          "model_module": "@jupyter-widgets/controls",
          "model_module_version": "1.5.0",
          "model_name": "HTMLModel",
          "state": {
            "_dom_classes": [],
            "_model_module": "@jupyter-widgets/controls",
            "_model_module_version": "1.5.0",
            "_model_name": "HTMLModel",
            "_view_count": null,
            "_view_module": "@jupyter-widgets/controls",
            "_view_module_version": "1.5.0",
            "_view_name": "HTMLView",
            "description": "",
            "description_tooltip": null,
            "layout": "IPY_MODEL_61f7cb5601854aa8a0e6914c3f69705a",
            "placeholder": "​",
            "style": "IPY_MODEL_b6c1e54732f341868b833af2cf056ec6",
            "value": "Downloading: 100%"
          }
        },
        "c4163f88266d401eb5d3e2d8b77158d5": {
          "model_module": "@jupyter-widgets/controls",
          "model_module_version": "1.5.0",
          "model_name": "HTMLModel",
          "state": {
            "_dom_classes": [],
            "_model_module": "@jupyter-widgets/controls",
            "_model_module_version": "1.5.0",
            "_model_name": "HTMLModel",
            "_view_count": null,
            "_view_module": "@jupyter-widgets/controls",
            "_view_module_version": "1.5.0",
            "_view_name": "HTMLView",
            "description": "",
            "description_tooltip": null,
            "layout": "IPY_MODEL_0061a8c7accc49af9d0c927b793ca778",
            "placeholder": "​",
            "style": "IPY_MODEL_cbe8312736024be2b2b429f91a933b8a",
            "value": " 570/570 [00:00&lt;00:00, 4.88kB/s]"
          }
        },
        "cbe8312736024be2b2b429f91a933b8a": {
          "model_module": "@jupyter-widgets/controls",
          "model_module_version": "1.5.0",
          "model_name": "DescriptionStyleModel",
          "state": {
            "_model_module": "@jupyter-widgets/controls",
            "_model_module_version": "1.5.0",
            "_model_name": "DescriptionStyleModel",
            "_view_count": null,
            "_view_module": "@jupyter-widgets/base",
            "_view_module_version": "1.2.0",
            "_view_name": "StyleView",
            "description_width": ""
          }
        },
        "cd0d46525f6843629969cf53544d51ec": {
          "model_module": "@jupyter-widgets/base",
          "model_module_version": "1.2.0",
          "model_name": "LayoutModel",
          "state": {
            "_model_module": "@jupyter-widgets/base",
            "_model_module_version": "1.2.0",
            "_model_name": "LayoutModel",
            "_view_count": null,
            "_view_module": "@jupyter-widgets/base",
            "_view_module_version": "1.2.0",
            "_view_name": "LayoutView",
            "align_content": null,
            "align_items": null,
            "align_self": null,
            "border": null,
            "bottom": null,
            "display": null,
            "flex": null,
            "flex_flow": null,
            "grid_area": null,
            "grid_auto_columns": null,
            "grid_auto_flow": null,
            "grid_auto_rows": null,
            "grid_column": null,
            "grid_gap": null,
            "grid_row": null,
            "grid_template_areas": null,
            "grid_template_columns": null,
            "grid_template_rows": null,
            "height": null,
            "justify_content": null,
            "justify_items": null,
            "left": null,
            "margin": null,
            "max_height": null,
            "max_width": null,
            "min_height": null,
            "min_width": null,
            "object_fit": null,
            "object_position": null,
            "order": null,
            "overflow": null,
            "overflow_x": null,
            "overflow_y": null,
            "padding": null,
            "right": null,
            "top": null,
            "visibility": null,
            "width": null
          }
        },
        "f8c2b8b3527141f4939ad3f13a8f2b46": {
          "model_module": "@jupyter-widgets/base",
          "model_module_version": "1.2.0",
          "model_name": "LayoutModel",
          "state": {
            "_model_module": "@jupyter-widgets/base",
            "_model_module_version": "1.2.0",
            "_model_name": "LayoutModel",
            "_view_count": null,
            "_view_module": "@jupyter-widgets/base",
            "_view_module_version": "1.2.0",
            "_view_name": "LayoutView",
            "align_content": null,
            "align_items": null,
            "align_self": null,
            "border": null,
            "bottom": null,
            "display": null,
            "flex": null,
            "flex_flow": null,
            "grid_area": null,
            "grid_auto_columns": null,
            "grid_auto_flow": null,
            "grid_auto_rows": null,
            "grid_column": null,
            "grid_gap": null,
            "grid_row": null,
            "grid_template_areas": null,
            "grid_template_columns": null,
            "grid_template_rows": null,
            "height": null,
            "justify_content": null,
            "justify_items": null,
            "left": null,
            "margin": null,
            "max_height": null,
            "max_width": null,
            "min_height": null,
            "min_width": null,
            "object_fit": null,
            "object_position": null,
            "order": null,
            "overflow": null,
            "overflow_x": null,
            "overflow_y": null,
            "padding": null,
            "right": null,
            "top": null,
            "visibility": null,
            "width": null
          }
        }
      }
    }
  },
  "nbformat": 4,
  "nbformat_minor": 0
}
